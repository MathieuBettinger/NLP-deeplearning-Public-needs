{
 "cells": [
  {
   "cell_type": "markdown",
   "metadata": {
    "id": "UcemxFsGNeCG"
   },
   "source": [
    "# <font color = yellow><div align = center>PROJECT LUCAS MALT "
   ]
  },
  {
   "cell_type": "markdown",
   "metadata": {
    "id": "PH8T8bw-Np1f"
   },
   "source": [
    "Import usual librairies"
   ]
  },
  {
   "cell_type": "code",
   "execution_count": 2,
   "metadata": {
    "id": "LnxUVMvtNdVV"
   },
   "outputs": [],
   "source": [
    "import numpy as np\r\n",
    "import pandas as pd"
   ]
  },
  {
   "cell_type": "code",
   "execution_count": 1,
   "metadata": {
    "id": "KXOJfB9jvEjk"
   },
   "outputs": [],
   "source": [
    "import pandas as pd\r\n",
    "pd.set_option('display.max_info_rows', 500)"
   ]
  },
  {
   "cell_type": "markdown",
   "metadata": {
    "id": "rOceOiXiNtW4"
   },
   "source": [
    "# 1/ Get data"
   ]
  },
  {
   "cell_type": "code",
   "execution_count": 3,
   "metadata": {
    "colab": {
     "base_uri": "https://localhost:8080/"
    },
    "id": "Si5P5i0WmDGr",
    "outputId": "d06020d5-400c-4cb8-d935-de78932b1b3b"
   },
   "outputs": [
    {
     "name": "stdout",
     "output_type": "stream",
     "text": [
      "Mounted at /content/drive\n"
     ]
    }
   ],
   "source": [
    "from google.colab import drive\r\n",
    "drive.mount('/content/drive')"
   ]
  },
  {
   "cell_type": "code",
   "execution_count": 4,
   "metadata": {
    "id": "PLK4fWGZmlgp"
   },
   "outputs": [],
   "source": [
    "df = pd.read_excel('/content/drive/MyDrive/Projet Lucas Malt/DATA_EP20285.xlsx')"
   ]
  },
  {
   "cell_type": "code",
   "execution_count": 5,
   "metadata": {
    "colab": {
     "base_uri": "https://localhost:8080/",
     "height": 313
    },
    "id": "Wk8hBjh5nBxk",
    "outputId": "a700dc38-83c2-46e1-a807-a01f33472f5f"
   },
   "outputs": [
    {
     "data": {
      "text/html": [
       "<div>\n",
       "<style scoped>\n",
       "    .dataframe tbody tr th:only-of-type {\n",
       "        vertical-align: middle;\n",
       "    }\n",
       "\n",
       "    .dataframe tbody tr th {\n",
       "        vertical-align: top;\n",
       "    }\n",
       "\n",
       "    .dataframe thead th {\n",
       "        text-align: right;\n",
       "    }\n",
       "</style>\n",
       "<table border=\"1\" class=\"dataframe\">\n",
       "  <thead>\n",
       "    <tr style=\"text-align: right;\">\n",
       "      <th></th>\n",
       "      <th>Numéro</th>\n",
       "      <th>Observation</th>\n",
       "      <th>Mode de dépôt</th>\n",
       "      <th>Date de dépôt</th>\n",
       "      <th>Heure de dépôt</th>\n",
       "      <th>Code postal</th>\n",
       "      <th>Ville</th>\n",
       "      <th>Modéré</th>\n",
       "      <th>Qualité</th>\n",
       "      <th>Teneur</th>\n",
       "    </tr>\n",
       "  </thead>\n",
       "  <tbody>\n",
       "    <tr>\n",
       "      <th>0</th>\n",
       "      <td>1</td>\n",
       "      <td>Quand on voit l'aménagement du pont de Bellevu...</td>\n",
       "      <td>Formulaire</td>\n",
       "      <td>21/08/2020</td>\n",
       "      <td>08:54</td>\n",
       "      <td>NaN</td>\n",
       "      <td>NaN</td>\n",
       "      <td>False</td>\n",
       "      <td>3 / 10</td>\n",
       "      <td>Plutôt défavorable au projet</td>\n",
       "    </tr>\n",
       "    <tr>\n",
       "      <th>1</th>\n",
       "      <td>2</td>\n",
       "      <td>Je suis complètement pour ce projet. Il est né...</td>\n",
       "      <td>Formulaire</td>\n",
       "      <td>21/08/2020</td>\n",
       "      <td>12:11</td>\n",
       "      <td>44300.0</td>\n",
       "      <td>NANTES</td>\n",
       "      <td>False</td>\n",
       "      <td>3 / 10</td>\n",
       "      <td>Plutôt favorable au projet</td>\n",
       "    </tr>\n",
       "    <tr>\n",
       "      <th>2</th>\n",
       "      <td>3</td>\n",
       "      <td>Bonjour,\\n\\nBien noté la déconstruction du PS3...</td>\n",
       "      <td>Formulaire</td>\n",
       "      <td>21/08/2020</td>\n",
       "      <td>14:59</td>\n",
       "      <td>NaN</td>\n",
       "      <td>NaN</td>\n",
       "      <td>False</td>\n",
       "      <td>3 / 10</td>\n",
       "      <td>Plutôt favorable au projet</td>\n",
       "    </tr>\n",
       "    <tr>\n",
       "      <th>3</th>\n",
       "      <td>4</td>\n",
       "      <td>Bonjour,\\n\\nJe suis tout a fait pour ce projet...</td>\n",
       "      <td>Formulaire</td>\n",
       "      <td>21/08/2020</td>\n",
       "      <td>17:23</td>\n",
       "      <td>NaN</td>\n",
       "      <td>NaN</td>\n",
       "      <td>False</td>\n",
       "      <td>4 / 10</td>\n",
       "      <td>Plutôt favorable au projet</td>\n",
       "    </tr>\n",
       "    <tr>\n",
       "      <th>4</th>\n",
       "      <td>5</td>\n",
       "      <td>Bonjour, je suis tout à fait partisan du proje...</td>\n",
       "      <td>Formulaire</td>\n",
       "      <td>22/08/2020</td>\n",
       "      <td>22:40</td>\n",
       "      <td>44240.0</td>\n",
       "      <td>LA CHAPELLE SUR ERDRE</td>\n",
       "      <td>False</td>\n",
       "      <td>5 / 10</td>\n",
       "      <td>Plutôt favorable au projet</td>\n",
       "    </tr>\n",
       "  </tbody>\n",
       "</table>\n",
       "</div>"
      ],
      "text/plain": [
       "   Numéro  ...                        Teneur\n",
       "0       1  ...  Plutôt défavorable au projet\n",
       "1       2  ...    Plutôt favorable au projet\n",
       "2       3  ...    Plutôt favorable au projet\n",
       "3       4  ...    Plutôt favorable au projet\n",
       "4       5  ...    Plutôt favorable au projet\n",
       "\n",
       "[5 rows x 10 columns]"
      ]
     },
     "execution_count": 5,
     "metadata": {
      "tags": []
     },
     "output_type": "execute_result"
    }
   ],
   "source": [
    "df.head()"
   ]
  },
  {
   "cell_type": "markdown",
   "metadata": {
    "id": "FQbOhqRzNy4b"
   },
   "source": [
    "# 2/ Simple stat Observaation"
   ]
  },
  {
   "cell_type": "code",
   "execution_count": 6,
   "metadata": {
    "colab": {
     "base_uri": "https://localhost:8080/",
     "height": 1000
    },
    "id": "SGTSVsagdeP1",
    "outputId": "1bf6ddb3-2779-46f1-a91e-e021ae8edbef"
   },
   "outputs": [
    {
     "name": "stdout",
     "output_type": "stream",
     "text": [
      "Number of rows : 339 and number of columns is : 10\n",
      "\n",
      "--------------------------------------------------------------------\n",
      "Display of dataset: \n"
     ]
    },
    {
     "data": {
      "text/html": [
       "<div>\n",
       "<style scoped>\n",
       "    .dataframe tbody tr th:only-of-type {\n",
       "        vertical-align: middle;\n",
       "    }\n",
       "\n",
       "    .dataframe tbody tr th {\n",
       "        vertical-align: top;\n",
       "    }\n",
       "\n",
       "    .dataframe thead th {\n",
       "        text-align: right;\n",
       "    }\n",
       "</style>\n",
       "<table border=\"1\" class=\"dataframe\">\n",
       "  <thead>\n",
       "    <tr style=\"text-align: right;\">\n",
       "      <th></th>\n",
       "      <th>Numéro</th>\n",
       "      <th>Observation</th>\n",
       "      <th>Mode de dépôt</th>\n",
       "      <th>Date de dépôt</th>\n",
       "      <th>Heure de dépôt</th>\n",
       "      <th>Code postal</th>\n",
       "      <th>Ville</th>\n",
       "      <th>Modéré</th>\n",
       "      <th>Qualité</th>\n",
       "      <th>Teneur</th>\n",
       "    </tr>\n",
       "  </thead>\n",
       "  <tbody>\n",
       "    <tr>\n",
       "      <th>0</th>\n",
       "      <td>1</td>\n",
       "      <td>Quand on voit l'aménagement du pont de Bellevu...</td>\n",
       "      <td>Formulaire</td>\n",
       "      <td>21/08/2020</td>\n",
       "      <td>08:54</td>\n",
       "      <td>NaN</td>\n",
       "      <td>NaN</td>\n",
       "      <td>False</td>\n",
       "      <td>3 / 10</td>\n",
       "      <td>Plutôt défavorable au projet</td>\n",
       "    </tr>\n",
       "    <tr>\n",
       "      <th>1</th>\n",
       "      <td>2</td>\n",
       "      <td>Je suis complètement pour ce projet. Il est né...</td>\n",
       "      <td>Formulaire</td>\n",
       "      <td>21/08/2020</td>\n",
       "      <td>12:11</td>\n",
       "      <td>44300.0</td>\n",
       "      <td>NANTES</td>\n",
       "      <td>False</td>\n",
       "      <td>3 / 10</td>\n",
       "      <td>Plutôt favorable au projet</td>\n",
       "    </tr>\n",
       "    <tr>\n",
       "      <th>2</th>\n",
       "      <td>3</td>\n",
       "      <td>Bonjour,\\n\\nBien noté la déconstruction du PS3...</td>\n",
       "      <td>Formulaire</td>\n",
       "      <td>21/08/2020</td>\n",
       "      <td>14:59</td>\n",
       "      <td>NaN</td>\n",
       "      <td>NaN</td>\n",
       "      <td>False</td>\n",
       "      <td>3 / 10</td>\n",
       "      <td>Plutôt favorable au projet</td>\n",
       "    </tr>\n",
       "    <tr>\n",
       "      <th>3</th>\n",
       "      <td>4</td>\n",
       "      <td>Bonjour,\\n\\nJe suis tout a fait pour ce projet...</td>\n",
       "      <td>Formulaire</td>\n",
       "      <td>21/08/2020</td>\n",
       "      <td>17:23</td>\n",
       "      <td>NaN</td>\n",
       "      <td>NaN</td>\n",
       "      <td>False</td>\n",
       "      <td>4 / 10</td>\n",
       "      <td>Plutôt favorable au projet</td>\n",
       "    </tr>\n",
       "    <tr>\n",
       "      <th>4</th>\n",
       "      <td>5</td>\n",
       "      <td>Bonjour, je suis tout à fait partisan du proje...</td>\n",
       "      <td>Formulaire</td>\n",
       "      <td>22/08/2020</td>\n",
       "      <td>22:40</td>\n",
       "      <td>44240.0</td>\n",
       "      <td>LA CHAPELLE SUR ERDRE</td>\n",
       "      <td>False</td>\n",
       "      <td>5 / 10</td>\n",
       "      <td>Plutôt favorable au projet</td>\n",
       "    </tr>\n",
       "  </tbody>\n",
       "</table>\n",
       "</div>"
      ],
      "text/plain": [
       "   Numéro  ...                        Teneur\n",
       "0       1  ...  Plutôt défavorable au projet\n",
       "1       2  ...    Plutôt favorable au projet\n",
       "2       3  ...    Plutôt favorable au projet\n",
       "3       4  ...    Plutôt favorable au projet\n",
       "4       5  ...    Plutôt favorable au projet\n",
       "\n",
       "[5 rows x 10 columns]"
      ]
     },
     "metadata": {
      "tags": []
     },
     "output_type": "display_data"
    },
    {
     "name": "stdout",
     "output_type": "stream",
     "text": [
      "\n",
      "--------------------------------------------------------------------\n",
      "Basics statistics: \n"
     ]
    },
    {
     "data": {
      "text/html": [
       "<div>\n",
       "<style scoped>\n",
       "    .dataframe tbody tr th:only-of-type {\n",
       "        vertical-align: middle;\n",
       "    }\n",
       "\n",
       "    .dataframe tbody tr th {\n",
       "        vertical-align: top;\n",
       "    }\n",
       "\n",
       "    .dataframe thead th {\n",
       "        text-align: right;\n",
       "    }\n",
       "</style>\n",
       "<table border=\"1\" class=\"dataframe\">\n",
       "  <thead>\n",
       "    <tr style=\"text-align: right;\">\n",
       "      <th></th>\n",
       "      <th>Numéro</th>\n",
       "      <th>Observation</th>\n",
       "      <th>Mode de dépôt</th>\n",
       "      <th>Date de dépôt</th>\n",
       "      <th>Heure de dépôt</th>\n",
       "      <th>Code postal</th>\n",
       "      <th>Ville</th>\n",
       "      <th>Modéré</th>\n",
       "      <th>Qualité</th>\n",
       "      <th>Teneur</th>\n",
       "    </tr>\n",
       "  </thead>\n",
       "  <tbody>\n",
       "    <tr>\n",
       "      <th>count</th>\n",
       "      <td>339.000000</td>\n",
       "      <td>339</td>\n",
       "      <td>339</td>\n",
       "      <td>339</td>\n",
       "      <td>339</td>\n",
       "      <td>285.000000</td>\n",
       "      <td>224</td>\n",
       "      <td>339</td>\n",
       "      <td>324</td>\n",
       "      <td>325</td>\n",
       "    </tr>\n",
       "    <tr>\n",
       "      <th>unique</th>\n",
       "      <td>NaN</td>\n",
       "      <td>313</td>\n",
       "      <td>2</td>\n",
       "      <td>37</td>\n",
       "      <td>261</td>\n",
       "      <td>NaN</td>\n",
       "      <td>24</td>\n",
       "      <td>1</td>\n",
       "      <td>9</td>\n",
       "      <td>3</td>\n",
       "    </tr>\n",
       "    <tr>\n",
       "      <th>top</th>\n",
       "      <td>NaN</td>\n",
       "      <td>voir observation du registre en pièce jointe</td>\n",
       "      <td>Formulaire</td>\n",
       "      <td>26/09/2020</td>\n",
       "      <td>16:21</td>\n",
       "      <td>NaN</td>\n",
       "      <td>NANTES</td>\n",
       "      <td>False</td>\n",
       "      <td>5 / 10</td>\n",
       "      <td>Neutre</td>\n",
       "    </tr>\n",
       "    <tr>\n",
       "      <th>freq</th>\n",
       "      <td>NaN</td>\n",
       "      <td>10</td>\n",
       "      <td>278</td>\n",
       "      <td>80</td>\n",
       "      <td>6</td>\n",
       "      <td>NaN</td>\n",
       "      <td>119</td>\n",
       "      <td>339</td>\n",
       "      <td>144</td>\n",
       "      <td>220</td>\n",
       "    </tr>\n",
       "    <tr>\n",
       "      <th>mean</th>\n",
       "      <td>170.000000</td>\n",
       "      <td>NaN</td>\n",
       "      <td>NaN</td>\n",
       "      <td>NaN</td>\n",
       "      <td>NaN</td>\n",
       "      <td>34996.652632</td>\n",
       "      <td>NaN</td>\n",
       "      <td>NaN</td>\n",
       "      <td>NaN</td>\n",
       "      <td>NaN</td>\n",
       "    </tr>\n",
       "    <tr>\n",
       "      <th>std</th>\n",
       "      <td>98.005102</td>\n",
       "      <td>NaN</td>\n",
       "      <td>NaN</td>\n",
       "      <td>NaN</td>\n",
       "      <td>NaN</td>\n",
       "      <td>18473.424554</td>\n",
       "      <td>NaN</td>\n",
       "      <td>NaN</td>\n",
       "      <td>NaN</td>\n",
       "      <td>NaN</td>\n",
       "    </tr>\n",
       "    <tr>\n",
       "      <th>min</th>\n",
       "      <td>1.000000</td>\n",
       "      <td>NaN</td>\n",
       "      <td>NaN</td>\n",
       "      <td>NaN</td>\n",
       "      <td>NaN</td>\n",
       "      <td>0.000000</td>\n",
       "      <td>NaN</td>\n",
       "      <td>NaN</td>\n",
       "      <td>NaN</td>\n",
       "      <td>NaN</td>\n",
       "    </tr>\n",
       "    <tr>\n",
       "      <th>25%</th>\n",
       "      <td>85.500000</td>\n",
       "      <td>NaN</td>\n",
       "      <td>NaN</td>\n",
       "      <td>NaN</td>\n",
       "      <td>NaN</td>\n",
       "      <td>44104.000000</td>\n",
       "      <td>NaN</td>\n",
       "      <td>NaN</td>\n",
       "      <td>NaN</td>\n",
       "      <td>NaN</td>\n",
       "    </tr>\n",
       "    <tr>\n",
       "      <th>50%</th>\n",
       "      <td>170.000000</td>\n",
       "      <td>NaN</td>\n",
       "      <td>NaN</td>\n",
       "      <td>NaN</td>\n",
       "      <td>NaN</td>\n",
       "      <td>44240.000000</td>\n",
       "      <td>NaN</td>\n",
       "      <td>NaN</td>\n",
       "      <td>NaN</td>\n",
       "      <td>NaN</td>\n",
       "    </tr>\n",
       "    <tr>\n",
       "      <th>75%</th>\n",
       "      <td>254.500000</td>\n",
       "      <td>NaN</td>\n",
       "      <td>NaN</td>\n",
       "      <td>NaN</td>\n",
       "      <td>NaN</td>\n",
       "      <td>44300.000000</td>\n",
       "      <td>NaN</td>\n",
       "      <td>NaN</td>\n",
       "      <td>NaN</td>\n",
       "      <td>NaN</td>\n",
       "    </tr>\n",
       "    <tr>\n",
       "      <th>max</th>\n",
       "      <td>339.000000</td>\n",
       "      <td>NaN</td>\n",
       "      <td>NaN</td>\n",
       "      <td>NaN</td>\n",
       "      <td>NaN</td>\n",
       "      <td>87000.000000</td>\n",
       "      <td>NaN</td>\n",
       "      <td>NaN</td>\n",
       "      <td>NaN</td>\n",
       "      <td>NaN</td>\n",
       "    </tr>\n",
       "  </tbody>\n",
       "</table>\n",
       "</div>"
      ],
      "text/plain": [
       "            Numéro  ...  Teneur\n",
       "count   339.000000  ...     325\n",
       "unique         NaN  ...       3\n",
       "top            NaN  ...  Neutre\n",
       "freq           NaN  ...     220\n",
       "mean    170.000000  ...     NaN\n",
       "std      98.005102  ...     NaN\n",
       "min       1.000000  ...     NaN\n",
       "25%      85.500000  ...     NaN\n",
       "50%     170.000000  ...     NaN\n",
       "75%     254.500000  ...     NaN\n",
       "max     339.000000  ...     NaN\n",
       "\n",
       "[11 rows x 10 columns]"
      ]
     },
     "metadata": {
      "tags": []
     },
     "output_type": "display_data"
    },
    {
     "name": "stdout",
     "output_type": "stream",
     "text": [
      "\n",
      "--------------------------------------------------------------------\n",
      "Percentage of missing values: \n"
     ]
    },
    {
     "data": {
      "text/plain": [
       "Numéro             0.000000\n",
       "Observation        0.000000\n",
       "Mode de dépôt      0.000000\n",
       "Date de dépôt      0.000000\n",
       "Heure de dépôt     0.000000\n",
       "Code postal       15.929204\n",
       "Ville             33.923304\n",
       "Modéré             0.000000\n",
       "Qualité            4.424779\n",
       "Teneur             4.129794\n",
       "dtype: float64"
      ]
     },
     "metadata": {
      "tags": []
     },
     "output_type": "display_data"
    }
   ],
   "source": [
    "print(\"Number of rows : {} and number of columns is : {}\".format(df.shape[0],df.shape[1]))\r\n",
    "print()\r\n",
    "print('--------------------------------------------------------------------')\r\n",
    "print(\"Display of dataset: \")\r\n",
    "display(df.head())\r\n",
    "print()\r\n",
    "print('--------------------------------------------------------------------')\r\n",
    "print(\"Basics statistics: \")\r\n",
    "data_desc = df.describe(include='all')\r\n",
    "display(data_desc)\r\n",
    "print()\r\n",
    "print('--------------------------------------------------------------------')\r\n",
    "print(\"Percentage of missing values: \")\r\n",
    "display(100*df.isnull().sum()/df.shape[0])"
   ]
  },
  {
   "cell_type": "code",
   "execution_count": 7,
   "metadata": {
    "colab": {
     "base_uri": "https://localhost:8080/"
    },
    "id": "Uk1FkUuunGsA",
    "outputId": "05267f75-cd33-48af-c994-e296d298f3b3"
   },
   "outputs": [
    {
     "data": {
      "text/plain": [
       "Neutre                          220\n",
       "Plutôt favorable au projet       76\n",
       "Plutôt défavorable au projet     29\n",
       "Name: Teneur, dtype: int64"
      ]
     },
     "execution_count": 7,
     "metadata": {
      "tags": []
     },
     "output_type": "execute_result"
    }
   ],
   "source": [
    "df.Teneur.value_counts()"
   ]
  },
  {
   "cell_type": "code",
   "execution_count": 8,
   "metadata": {
    "colab": {
     "base_uri": "https://localhost:8080/"
    },
    "id": "mCwhPZP9fBih",
    "outputId": "49816168-b066-4d91-92dd-31d5c0be5029"
   },
   "outputs": [
    {
     "data": {
      "text/plain": [
       "Numéro              int64\n",
       "Observation        object\n",
       "Mode de dépôt      object\n",
       "Date de dépôt      object\n",
       "Heure de dépôt     object\n",
       "Code postal       float64\n",
       "Ville              object\n",
       "Modéré               bool\n",
       "Qualité            object\n",
       "Teneur             object\n",
       "dtype: object"
      ]
     },
     "execution_count": 8,
     "metadata": {
      "tags": []
     },
     "output_type": "execute_result"
    }
   ],
   "source": [
    "df.dtypes"
   ]
  },
  {
   "cell_type": "markdown",
   "metadata": {
    "id": "cl0S0MVb8P7I"
   },
   "source": [
    "# 3/ Starting to preprocess for a deeplearning model"
   ]
  },
  {
   "cell_type": "code",
   "execution_count": 9,
   "metadata": {
    "id": "ZsGjHxNZR1V2"
   },
   "outputs": [],
   "source": [
    "df2 = pd.DataFrame(df.loc[:,\"Observation\"], columns =['Observation'])"
   ]
  },
  {
   "cell_type": "code",
   "execution_count": 10,
   "metadata": {
    "colab": {
     "base_uri": "https://localhost:8080/",
     "height": 402
    },
    "id": "SMc0McieXX57",
    "outputId": "586328ee-44ed-4167-d2b8-4ad29912a7ad"
   },
   "outputs": [
    {
     "data": {
      "text/html": [
       "<div>\n",
       "<style scoped>\n",
       "    .dataframe tbody tr th:only-of-type {\n",
       "        vertical-align: middle;\n",
       "    }\n",
       "\n",
       "    .dataframe tbody tr th {\n",
       "        vertical-align: top;\n",
       "    }\n",
       "\n",
       "    .dataframe thead th {\n",
       "        text-align: right;\n",
       "    }\n",
       "</style>\n",
       "<table border=\"1\" class=\"dataframe\">\n",
       "  <thead>\n",
       "    <tr style=\"text-align: right;\">\n",
       "      <th></th>\n",
       "      <th>Observation</th>\n",
       "    </tr>\n",
       "  </thead>\n",
       "  <tbody>\n",
       "    <tr>\n",
       "      <th>0</th>\n",
       "      <td>Quand on voit l'aménagement du pont de Bellevu...</td>\n",
       "    </tr>\n",
       "    <tr>\n",
       "      <th>1</th>\n",
       "      <td>Je suis complètement pour ce projet. Il est né...</td>\n",
       "    </tr>\n",
       "    <tr>\n",
       "      <th>2</th>\n",
       "      <td>Bonjour,\\n\\nBien noté la déconstruction du PS3...</td>\n",
       "    </tr>\n",
       "    <tr>\n",
       "      <th>3</th>\n",
       "      <td>Bonjour,\\n\\nJe suis tout a fait pour ce projet...</td>\n",
       "    </tr>\n",
       "    <tr>\n",
       "      <th>4</th>\n",
       "      <td>Bonjour, je suis tout à fait partisan du proje...</td>\n",
       "    </tr>\n",
       "    <tr>\n",
       "      <th>...</th>\n",
       "      <td>...</td>\n",
       "    </tr>\n",
       "    <tr>\n",
       "      <th>334</th>\n",
       "      <td>\\nBonjour,\\nHabitants Gesvrine, nous craignons...</td>\n",
       "    </tr>\n",
       "    <tr>\n",
       "      <th>335</th>\n",
       "      <td>Contribution des élus LCEA\\n\\nBonjour,\\n\\nci-j...</td>\n",
       "    </tr>\n",
       "    <tr>\n",
       "      <th>336</th>\n",
       "      <td>voir observation du registre en pièce jointe</td>\n",
       "    </tr>\n",
       "    <tr>\n",
       "      <th>337</th>\n",
       "      <td>Bonjour,\\nJe n'ai rien contre aménagement de l...</td>\n",
       "    </tr>\n",
       "    <tr>\n",
       "      <th>338</th>\n",
       "      <td>Je partage totalement le point de vue émis dan...</td>\n",
       "    </tr>\n",
       "  </tbody>\n",
       "</table>\n",
       "<p>339 rows × 1 columns</p>\n",
       "</div>"
      ],
      "text/plain": [
       "                                           Observation\n",
       "0    Quand on voit l'aménagement du pont de Bellevu...\n",
       "1    Je suis complètement pour ce projet. Il est né...\n",
       "2    Bonjour,\\n\\nBien noté la déconstruction du PS3...\n",
       "3    Bonjour,\\n\\nJe suis tout a fait pour ce projet...\n",
       "4    Bonjour, je suis tout à fait partisan du proje...\n",
       "..                                                 ...\n",
       "334  \\nBonjour,\\nHabitants Gesvrine, nous craignons...\n",
       "335  Contribution des élus LCEA\\n\\nBonjour,\\n\\nci-j...\n",
       "336       voir observation du registre en pièce jointe\n",
       "337  Bonjour,\\nJe n'ai rien contre aménagement de l...\n",
       "338  Je partage totalement le point de vue émis dan...\n",
       "\n",
       "[339 rows x 1 columns]"
      ]
     },
     "execution_count": 10,
     "metadata": {
      "tags": []
     },
     "output_type": "execute_result"
    }
   ],
   "source": [
    "df2"
   ]
  },
  {
   "cell_type": "code",
   "execution_count": 11,
   "metadata": {
    "colab": {
     "base_uri": "https://localhost:8080/",
     "height": 52
    },
    "id": "F4c3GAs3zOIy",
    "outputId": "b4a46793-9e9a-45b6-e5b1-02118d4c0922"
   },
   "outputs": [
    {
     "data": {
      "application/vnd.google.colaboratory.intrinsic+json": {
       "type": "string"
      },
      "text/plain": [
       "'Le périphérique extérieur et l’A11 venant de Paris vont se rejoindre sur 4 voies puis se réduire à 3 puis 2 voies. Ne faudrait il pas prolonger sur 3 voies jusqu’a la sortie de Rennes pour limiter l’effet entonnoir ?'"
      ]
     },
     "execution_count": 11,
     "metadata": {
      "tags": []
     },
     "output_type": "execute_result"
    }
   ],
   "source": [
    "df2.iloc[25, 0]"
   ]
  },
  {
   "cell_type": "code",
   "execution_count": 12,
   "metadata": {
    "colab": {
     "base_uri": "https://localhost:8080/",
     "height": 195
    },
    "id": "vdv6xgDe7i5T",
    "outputId": "332b89a3-e371-42d7-ee4a-54f947d1ee90"
   },
   "outputs": [
    {
     "data": {
      "text/html": [
       "<div>\n",
       "<style scoped>\n",
       "    .dataframe tbody tr th:only-of-type {\n",
       "        vertical-align: middle;\n",
       "    }\n",
       "\n",
       "    .dataframe tbody tr th {\n",
       "        vertical-align: top;\n",
       "    }\n",
       "\n",
       "    .dataframe thead th {\n",
       "        text-align: right;\n",
       "    }\n",
       "</style>\n",
       "<table border=\"1\" class=\"dataframe\">\n",
       "  <thead>\n",
       "    <tr style=\"text-align: right;\">\n",
       "      <th></th>\n",
       "      <th>Observation</th>\n",
       "      <th>clean_documents</th>\n",
       "      <th>clean_documents+</th>\n",
       "    </tr>\n",
       "  </thead>\n",
       "  <tbody>\n",
       "    <tr>\n",
       "      <th>0</th>\n",
       "      <td>Quand on voit l'aménagement du pont de Bellevu...</td>\n",
       "      <td>Quand on voit aménagement du pont de Bellevue ...</td>\n",
       "      <td>quand on voit aménagement du pont de bellevue ...</td>\n",
       "    </tr>\n",
       "    <tr>\n",
       "      <th>1</th>\n",
       "      <td>Je suis complètement pour ce projet. Il est né...</td>\n",
       "      <td>Je suis complètement pour ce projet. Il est né...</td>\n",
       "      <td>je suis complètement pour ce projet. il est né...</td>\n",
       "    </tr>\n",
       "    <tr>\n",
       "      <th>2</th>\n",
       "      <td>Bonjour,\\n\\nBien noté la déconstruction du PS3...</td>\n",
       "      <td>Bonjour,  Bien noté la déconstruction du PS3. ...</td>\n",
       "      <td>bonjour,  bien noté la déconstruction du ps3. ...</td>\n",
       "    </tr>\n",
       "    <tr>\n",
       "      <th>3</th>\n",
       "      <td>Bonjour,\\n\\nJe suis tout a fait pour ce projet...</td>\n",
       "      <td>Bonjour,  Je suis tout a fait pour ce projet q...</td>\n",
       "      <td>bonjour,  je suis tout a fait pour ce projet q...</td>\n",
       "    </tr>\n",
       "    <tr>\n",
       "      <th>4</th>\n",
       "      <td>Bonjour, je suis tout à fait partisan du proje...</td>\n",
       "      <td>Bonjour, je suis tout à fait partisan du proje...</td>\n",
       "      <td>bonjour, je suis tout à fait partisan du proje...</td>\n",
       "    </tr>\n",
       "  </tbody>\n",
       "</table>\n",
       "</div>"
      ],
      "text/plain": [
       "                                         Observation  ...                                   clean_documents+\n",
       "0  Quand on voit l'aménagement du pont de Bellevu...  ...  quand on voit aménagement du pont de bellevue ...\n",
       "1  Je suis complètement pour ce projet. Il est né...  ...  je suis complètement pour ce projet. il est né...\n",
       "2  Bonjour,\\n\\nBien noté la déconstruction du PS3...  ...  bonjour,  bien noté la déconstruction du ps3. ...\n",
       "3  Bonjour,\\n\\nJe suis tout a fait pour ce projet...  ...  bonjour,  je suis tout a fait pour ce projet q...\n",
       "4  Bonjour, je suis tout à fait partisan du proje...  ...  bonjour, je suis tout à fait partisan du proje...\n",
       "\n",
       "[5 rows x 3 columns]"
      ]
     },
     "execution_count": 12,
     "metadata": {
      "tags": []
     },
     "output_type": "execute_result"
    }
   ],
   "source": [
    "df2['clean_documents'] = df2.Observation.apply(lambda x: x.replace(\"d'\", \"\").replace(\"l'\", \"\").replace(\"\\n\", \" \"))\r\n",
    "df2['clean_documents+'] = df2['clean_documents'].fillna('').apply(lambda x: x.lower().strip())\r\n",
    "\r\n",
    "df2.head()"
   ]
  },
  {
   "cell_type": "code",
   "execution_count": 13,
   "metadata": {
    "colab": {
     "base_uri": "https://localhost:8080/",
     "height": 102
    },
    "id": "tmVgCJKp06G1",
    "outputId": "3e4c0dc6-9518-4596-a159-7bfe3f087b2b"
   },
   "outputs": [
    {
     "data": {
      "application/vnd.google.colaboratory.intrinsic+json": {
       "type": "string"
      },
      "text/plain": [
       "'bonjour, je suis tout à fait partisan du projet qui va dans le bon sens, pour l utiliser tous les jours . ceci dit ,  je trouve juste dommage que le projet n aille pas jusqu’à la porte de rennes en 2x3 voies. en effet nous avons un traffic sur 2 vois venant de l autoroute, un autre de 2 voies venant du périphérique. cela font 4 voies qui se regroupe sur 2 voies jusqu’à la prochaine sortie de la route de rennes.  ne pensez-vous pas retrouver l engorgement habituel après la porte de gesvre.  ainsi le périphérique serait en 2x3 voies de la porte-de-gesvres à la porte d orvault permettant aux usagers venant de l autoroute de ne pas être perturbé par un flux du périphérique.'"
      ]
     },
     "execution_count": 13,
     "metadata": {
      "tags": []
     },
     "output_type": "execute_result"
    }
   ],
   "source": [
    "df2.iloc[4, 2]"
   ]
  },
  {
   "cell_type": "code",
   "execution_count": 14,
   "metadata": {
    "colab": {
     "base_uri": "https://localhost:8080/"
    },
    "id": "7K7stOpi8xyh",
    "outputId": "84c2767d-f7dd-4bd8-ae0e-8e9df1da458f"
   },
   "outputs": [
    {
     "name": "stdout",
     "output_type": "stream",
     "text": [
      "\u001b[K     |████████████████████████████████| 14.7MB 4.1MB/s \n",
      "\u001b[?25h  Building wheel for fr-core-news-sm (setup.py) ... \u001b[?25l\u001b[?25hdone\n",
      "\u001b[38;5;2m✔ Download and installation successful\u001b[0m\n",
      "You can now load the model via spacy.load('fr_core_news_sm')\n"
     ]
    }
   ],
   "source": [
    "# Import spacy, if you don't have it --> !pip install spacy \r\n",
    "import spacy\r\n",
    "spacy.__version__\r\n",
    "!python -m spacy download fr_core_news_sm -q\r\n",
    "# Import English using en_core_web_sm.load()\r\n",
    "import fr_core_news_sm\r\n",
    "nlp = fr_core_news_sm.load()"
   ]
  },
  {
   "cell_type": "code",
   "execution_count": 15,
   "metadata": {
    "colab": {
     "base_uri": "https://localhost:8080/"
    },
    "id": "dCMzIrRG8hMC",
    "outputId": "b028314c-f576-46a5-9247-be4e96add394"
   },
   "outputs": [
    {
     "data": {
      "text/plain": [
       "0      [voir, aménagement, pont, bellevue, porte, anj...\n",
       "1      [complètement, projet, ., nécessaire, réaménag...\n",
       "2      [bonjour, ,,  , noter, déconstruction, ps3, .,...\n",
       "3      [bonjour, ,,  , projet, indispensable, ., ,, t...\n",
       "4      [bonjour, ,, partisan, projet, bon, sens, ,, l...\n",
       "                             ...                        \n",
       "334    [bonjour, ,, habitant, gesvrine, ,, craindre, ...\n",
       "335    [contribution, élu, lcea,  , bonjour, ,,  , -,...\n",
       "336        [voir, observation, registre, pièce, joindre]\n",
       "337    [bonjour, ,, aménagement, porte, gevre, ., rev...\n",
       "338    [partager, totalement, point, vue, émettre, ca...\n",
       "Name: clean_documents+, Length: 339, dtype: object"
      ]
     },
     "execution_count": 15,
     "metadata": {
      "tags": []
     },
     "output_type": "execute_result"
    }
   ],
   "source": [
    "## Import stop words from spacy \r\n",
    "from spacy.lang.fr.stop_words import STOP_WORDS\r\n",
    "\r\n",
    "## Tokenize the cleaned document\r\n",
    "tokenized_doc = df2['clean_documents+'].fillna('').apply(lambda x: nlp(x))\r\n",
    "\r\n",
    "# remove stop-words\r\n",
    "tokenized_doc = tokenized_doc.apply(lambda x: [token.lemma_ for token in x if token.text not in STOP_WORDS])\r\n",
    "tokenized_doc"
   ]
  },
  {
   "cell_type": "code",
   "execution_count": 16,
   "metadata": {
    "colab": {
     "base_uri": "https://localhost:8080/"
    },
    "id": "KSU0cGzlGVG7",
    "outputId": "592add9d-eb4b-4ba8-a3cd-585296d93549"
   },
   "outputs": [
    {
     "data": {
      "text/plain": [
       "['bonjour',\n",
       " 'étonner',\n",
       " 'réfection',\n",
       " 'total',\n",
       " 'pont',\n",
       " 'route',\n",
       " 'chapelle',\n",
       " 'erdre',\n",
       " 'accompagne',\n",
       " 'mise',\n",
       " 'place',\n",
       " 'voie',\n",
       " 'mode',\n",
       " 'actif',\n",
       " 'respecter',\n",
       " 'propre',\n",
       " 'cahier',\n",
       " 'charge',\n",
       " 'nantes',\n",
       " 'métropole',\n",
       " 'vouloir',\n",
       " 'bidirectionnelle',\n",
       " 'réserver',\n",
       " 'vélos',\n",
       " 'mètre',\n",
       " 'large',\n",
       " 'ici',\n",
       " 'envisager',\n",
       " 'voie',\n",
       " 'vert',\n",
       " 'partager',\n",
       " 'piéton',\n",
       " 'm',\n",
       " 'largement',\n",
       " 'insuffiser',\n",
       " 'garantir',\n",
       " 'conflit',\n",
       " 'usag',\n",
       " 'solution',\n",
       " 'mètre',\n",
       " 'bidirectionnelle',\n",
       " 'mini',\n",
       " 'plus',\n",
       " 'piéton',\n",
       " 'faire',\n",
       " 'choix',\n",
       " 'politique',\n",
       " 'financier',\n",
       " 'réfection',\n",
       " 'pont',\n",
       " 'assurer',\n",
       " 'techniquemer',\n",
       " 'possibilité',\n",
       " 'pont',\n",
       " 'construire',\n",
       " 'génération',\n",
       " 'venir',\n",
       " 'capable',\n",
       " 'faire',\n",
       " 'face',\n",
       " 'enjeux',\n",
       " 'fort',\n",
       " 'croissance',\n",
       " 'trafic',\n",
       " 'cycle',\n",
       " 'cordialement',\n",
       " 'julien',\n",
       " 'lr']"
      ]
     },
     "execution_count": 16,
     "metadata": {
      "tags": []
     },
     "output_type": "execute_result"
    }
   ],
   "source": [
    "tokenized_doc_clean = [[word for word in x if word.isalpha() and word.isidentifier()] for x in tokenized_doc]\r\n",
    "tokenized_doc_clean[5]"
   ]
  },
  {
   "cell_type": "code",
   "execution_count": 17,
   "metadata": {
    "id": "-OVQT7tsKDf8"
   },
   "outputs": [],
   "source": [
    "for x in tokenized_doc_clean:\r\n",
    "    for word in x:\r\n",
    "      if len(word) <= 2:\r\n",
    "        x.remove(word)"
   ]
  },
  {
   "cell_type": "code",
   "execution_count": 18,
   "metadata": {
    "colab": {
     "base_uri": "https://localhost:8080/"
    },
    "id": "JnYSukgdKI5c",
    "outputId": "4717ac20-fd43-4a96-f822-61094bd49adc"
   },
   "outputs": [
    {
     "data": {
      "text/plain": [
       "['bonjour',\n",
       " 'étonner',\n",
       " 'réfection',\n",
       " 'total',\n",
       " 'pont',\n",
       " 'route',\n",
       " 'chapelle',\n",
       " 'erdre',\n",
       " 'accompagne',\n",
       " 'mise',\n",
       " 'place',\n",
       " 'voie',\n",
       " 'mode',\n",
       " 'actif',\n",
       " 'respecter',\n",
       " 'propre',\n",
       " 'cahier',\n",
       " 'charge',\n",
       " 'nantes',\n",
       " 'métropole',\n",
       " 'vouloir',\n",
       " 'bidirectionnelle',\n",
       " 'réserver',\n",
       " 'vélos',\n",
       " 'mètre',\n",
       " 'large',\n",
       " 'ici',\n",
       " 'envisager',\n",
       " 'voie',\n",
       " 'vert',\n",
       " 'partager',\n",
       " 'piéton',\n",
       " 'largement',\n",
       " 'insuffiser',\n",
       " 'garantir',\n",
       " 'conflit',\n",
       " 'usag',\n",
       " 'solution',\n",
       " 'mètre',\n",
       " 'bidirectionnelle',\n",
       " 'mini',\n",
       " 'plus',\n",
       " 'piéton',\n",
       " 'faire',\n",
       " 'choix',\n",
       " 'politique',\n",
       " 'financier',\n",
       " 'réfection',\n",
       " 'pont',\n",
       " 'assurer',\n",
       " 'techniquemer',\n",
       " 'possibilité',\n",
       " 'pont',\n",
       " 'construire',\n",
       " 'génération',\n",
       " 'venir',\n",
       " 'capable',\n",
       " 'faire',\n",
       " 'face',\n",
       " 'enjeux',\n",
       " 'fort',\n",
       " 'croissance',\n",
       " 'trafic',\n",
       " 'cycle',\n",
       " 'cordialement',\n",
       " 'julien']"
      ]
     },
     "execution_count": 18,
     "metadata": {
      "tags": []
     },
     "output_type": "execute_result"
    }
   ],
   "source": [
    "tokenized_doc_clean[5]"
   ]
  },
  {
   "cell_type": "code",
   "execution_count": 19,
   "metadata": {
    "colab": {
     "base_uri": "https://localhost:8080/",
     "height": 279
    },
    "id": "AXuqRkoou67B",
    "outputId": "913da734-1605-4494-beb7-7a50510991b5"
   },
   "outputs": [
    {
     "data": {
      "text/html": [
       "<div>\n",
       "<style scoped>\n",
       "    .dataframe tbody tr th:only-of-type {\n",
       "        vertical-align: middle;\n",
       "    }\n",
       "\n",
       "    .dataframe tbody tr th {\n",
       "        vertical-align: top;\n",
       "    }\n",
       "\n",
       "    .dataframe thead th {\n",
       "        text-align: right;\n",
       "    }\n",
       "</style>\n",
       "<table border=\"1\" class=\"dataframe\">\n",
       "  <thead>\n",
       "    <tr style=\"text-align: right;\">\n",
       "      <th></th>\n",
       "      <th>Observation</th>\n",
       "      <th>clean_documents</th>\n",
       "      <th>clean_documents+</th>\n",
       "      <th>clean_token</th>\n",
       "    </tr>\n",
       "  </thead>\n",
       "  <tbody>\n",
       "    <tr>\n",
       "      <th>0</th>\n",
       "      <td>Quand on voit l'aménagement du pont de Bellevu...</td>\n",
       "      <td>Quand on voit aménagement du pont de Bellevue ...</td>\n",
       "      <td>quand on voit aménagement du pont de bellevue ...</td>\n",
       "      <td>[voir, aménagement, pont, bellevue, porte, anj...</td>\n",
       "    </tr>\n",
       "    <tr>\n",
       "      <th>1</th>\n",
       "      <td>Je suis complètement pour ce projet. Il est né...</td>\n",
       "      <td>Je suis complètement pour ce projet. Il est né...</td>\n",
       "      <td>je suis complètement pour ce projet. il est né...</td>\n",
       "      <td>[complètement, projet, nécessaire, réaménager,...</td>\n",
       "    </tr>\n",
       "    <tr>\n",
       "      <th>2</th>\n",
       "      <td>Bonjour,\\n\\nBien noté la déconstruction du PS3...</td>\n",
       "      <td>Bonjour,  Bien noté la déconstruction du PS3. ...</td>\n",
       "      <td>bonjour,  bien noté la déconstruction du ps3. ...</td>\n",
       "      <td>[bonjour, noter, déconstruction, planning, pré...</td>\n",
       "    </tr>\n",
       "    <tr>\n",
       "      <th>3</th>\n",
       "      <td>Bonjour,\\n\\nJe suis tout a fait pour ce projet...</td>\n",
       "      <td>Bonjour,  Je suis tout a fait pour ce projet q...</td>\n",
       "      <td>bonjour,  je suis tout a fait pour ce projet q...</td>\n",
       "      <td>[bonjour, projet, indispensable, trouve, proje...</td>\n",
       "    </tr>\n",
       "    <tr>\n",
       "      <th>4</th>\n",
       "      <td>Bonjour, je suis tout à fait partisan du proje...</td>\n",
       "      <td>Bonjour, je suis tout à fait partisan du proje...</td>\n",
       "      <td>bonjour, je suis tout à fait partisan du proje...</td>\n",
       "      <td>[bonjour, partisan, projet, bon, sens, utilise...</td>\n",
       "    </tr>\n",
       "  </tbody>\n",
       "</table>\n",
       "</div>"
      ],
      "text/plain": [
       "                                         Observation  ...                                        clean_token\n",
       "0  Quand on voit l'aménagement du pont de Bellevu...  ...  [voir, aménagement, pont, bellevue, porte, anj...\n",
       "1  Je suis complètement pour ce projet. Il est né...  ...  [complètement, projet, nécessaire, réaménager,...\n",
       "2  Bonjour,\\n\\nBien noté la déconstruction du PS3...  ...  [bonjour, noter, déconstruction, planning, pré...\n",
       "3  Bonjour,\\n\\nJe suis tout a fait pour ce projet...  ...  [bonjour, projet, indispensable, trouve, proje...\n",
       "4  Bonjour, je suis tout à fait partisan du proje...  ...  [bonjour, partisan, projet, bon, sens, utilise...\n",
       "\n",
       "[5 rows x 4 columns]"
      ]
     },
     "execution_count": 19,
     "metadata": {
      "tags": []
     },
     "output_type": "execute_result"
    }
   ],
   "source": [
    "df2['clean_token'] = tokenized_doc_clean\r\n",
    "df2.head()"
   ]
  },
  {
   "cell_type": "code",
   "execution_count": 20,
   "metadata": {
    "colab": {
     "base_uri": "https://localhost:8080/",
     "height": 279
    },
    "id": "vZeDCIHDD1Hq",
    "outputId": "fa7ac7c9-9bf0-4b2a-ceef-4fe8572844a4"
   },
   "outputs": [
    {
     "data": {
      "text/html": [
       "<div>\n",
       "<style scoped>\n",
       "    .dataframe tbody tr th:only-of-type {\n",
       "        vertical-align: middle;\n",
       "    }\n",
       "\n",
       "    .dataframe tbody tr th {\n",
       "        vertical-align: top;\n",
       "    }\n",
       "\n",
       "    .dataframe thead th {\n",
       "        text-align: right;\n",
       "    }\n",
       "</style>\n",
       "<table border=\"1\" class=\"dataframe\">\n",
       "  <thead>\n",
       "    <tr style=\"text-align: right;\">\n",
       "      <th></th>\n",
       "      <th>Observation</th>\n",
       "      <th>clean_documents</th>\n",
       "      <th>clean_documents+</th>\n",
       "      <th>clean_token</th>\n",
       "      <th>clean_document</th>\n",
       "    </tr>\n",
       "  </thead>\n",
       "  <tbody>\n",
       "    <tr>\n",
       "      <th>0</th>\n",
       "      <td>Quand on voit l'aménagement du pont de Bellevu...</td>\n",
       "      <td>Quand on voit aménagement du pont de Bellevue ...</td>\n",
       "      <td>quand on voit aménagement du pont de bellevue ...</td>\n",
       "      <td>[voir, aménagement, pont, bellevue, porte, anj...</td>\n",
       "      <td>voir aménagement pont bellevue porte anjou dur...</td>\n",
       "    </tr>\n",
       "    <tr>\n",
       "      <th>1</th>\n",
       "      <td>Je suis complètement pour ce projet. Il est né...</td>\n",
       "      <td>Je suis complètement pour ce projet. Il est né...</td>\n",
       "      <td>je suis complètement pour ce projet. il est né...</td>\n",
       "      <td>[complètement, projet, nécessaire, réaménager,...</td>\n",
       "      <td>complètement projet nécessaire réaménager port...</td>\n",
       "    </tr>\n",
       "    <tr>\n",
       "      <th>2</th>\n",
       "      <td>Bonjour,\\n\\nBien noté la déconstruction du PS3...</td>\n",
       "      <td>Bonjour,  Bien noté la déconstruction du PS3. ...</td>\n",
       "      <td>bonjour,  bien noté la déconstruction du ps3. ...</td>\n",
       "      <td>[bonjour, noter, déconstruction, planning, pré...</td>\n",
       "      <td>bonjour noter déconstruction planning prévisio...</td>\n",
       "    </tr>\n",
       "    <tr>\n",
       "      <th>3</th>\n",
       "      <td>Bonjour,\\n\\nJe suis tout a fait pour ce projet...</td>\n",
       "      <td>Bonjour,  Je suis tout a fait pour ce projet q...</td>\n",
       "      <td>bonjour,  je suis tout a fait pour ce projet q...</td>\n",
       "      <td>[bonjour, projet, indispensable, trouve, proje...</td>\n",
       "      <td>bonjour projet indispensable trouve projet pré...</td>\n",
       "    </tr>\n",
       "    <tr>\n",
       "      <th>4</th>\n",
       "      <td>Bonjour, je suis tout à fait partisan du proje...</td>\n",
       "      <td>Bonjour, je suis tout à fait partisan du proje...</td>\n",
       "      <td>bonjour, je suis tout à fait partisan du proje...</td>\n",
       "      <td>[bonjour, partisan, projet, bon, sens, utilise...</td>\n",
       "      <td>bonjour partisan projet bon sens utiliser jour...</td>\n",
       "    </tr>\n",
       "  </tbody>\n",
       "</table>\n",
       "</div>"
      ],
      "text/plain": [
       "                                         Observation  ...                                     clean_document\n",
       "0  Quand on voit l'aménagement du pont de Bellevu...  ...  voir aménagement pont bellevue porte anjou dur...\n",
       "1  Je suis complètement pour ce projet. Il est né...  ...  complètement projet nécessaire réaménager port...\n",
       "2  Bonjour,\\n\\nBien noté la déconstruction du PS3...  ...  bonjour noter déconstruction planning prévisio...\n",
       "3  Bonjour,\\n\\nJe suis tout a fait pour ce projet...  ...  bonjour projet indispensable trouve projet pré...\n",
       "4  Bonjour, je suis tout à fait partisan du proje...  ...  bonjour partisan projet bon sens utiliser jour...\n",
       "\n",
       "[5 rows x 5 columns]"
      ]
     },
     "execution_count": 20,
     "metadata": {
      "tags": []
     },
     "output_type": "execute_result"
    }
   ],
   "source": [
    "df2['clean_document'] = df2['clean_token'].str.join(' ').str.strip()\r\n",
    "df2.head()"
   ]
  },
  {
   "cell_type": "code",
   "execution_count": 21,
   "metadata": {
    "id": "IXjUWZhJrPkZ"
   },
   "outputs": [],
   "source": [
    "def remove_bonjour(texte):\r\n",
    "  if \"bonjour\" in texte:\r\n",
    "    texte = texte.split(\"onjour\")[1]\r\n",
    "  return texte"
   ]
  },
  {
   "cell_type": "code",
   "execution_count": 22,
   "metadata": {
    "id": "5hqljvsAsUuU"
   },
   "outputs": [],
   "source": [
    "def remove_cordialement(texte):\r\n",
    "  if 'cordialement' in texte:\r\n",
    "    texte = texte.split(\"cordialemen\")[0]\r\n",
    "  return texte"
   ]
  },
  {
   "cell_type": "code",
   "execution_count": 23,
   "metadata": {
    "id": "9lIt0E6JsqZx"
   },
   "outputs": [],
   "source": [
    "df2[\"clean_document+\"] = df2[\"clean_document\"].apply(lambda x: remove_bonjour(x))\r\n",
    "df2[\"clean_document++\"] = df2[\"clean_document+\"].apply(lambda x: remove_cordialement(x))"
   ]
  },
  {
   "cell_type": "code",
   "execution_count": 24,
   "metadata": {
    "colab": {
     "base_uri": "https://localhost:8080/",
     "height": 69
    },
    "id": "O7Cy32N3upjW",
    "outputId": "c6e8067c-169b-487a-99bb-26a24acf004e"
   },
   "outputs": [
    {
     "data": {
      "application/vnd.google.colaboratory.intrinsic+json": {
       "type": "string"
      },
      "text/plain": [
       "'complètement projet nécessaire réaménager porte gesvre complètement saturer heure pointe passage voie indispensable hâter travail commencent être terminer circulation fluide arrêter perdre temps route matin soir falloir éviter multiple changement vitesse induisent ralentissement accélération embouteillages'"
      ]
     },
     "execution_count": 24,
     "metadata": {
      "tags": []
     },
     "output_type": "execute_result"
    }
   ],
   "source": [
    "vision = df2.iloc[1,-1]\r\n",
    "vision"
   ]
  },
  {
   "cell_type": "code",
   "execution_count": 25,
   "metadata": {
    "colab": {
     "base_uri": "https://localhost:8080/",
     "height": 363
    },
    "id": "_DKNrTn-uW8W",
    "outputId": "51ee7d4b-93e6-4d5c-f31d-c697813d0fba"
   },
   "outputs": [
    {
     "data": {
      "text/html": [
       "<div>\n",
       "<style scoped>\n",
       "    .dataframe tbody tr th:only-of-type {\n",
       "        vertical-align: middle;\n",
       "    }\n",
       "\n",
       "    .dataframe tbody tr th {\n",
       "        vertical-align: top;\n",
       "    }\n",
       "\n",
       "    .dataframe thead th {\n",
       "        text-align: right;\n",
       "    }\n",
       "</style>\n",
       "<table border=\"1\" class=\"dataframe\">\n",
       "  <thead>\n",
       "    <tr style=\"text-align: right;\">\n",
       "      <th></th>\n",
       "      <th>Observation</th>\n",
       "      <th>clean_documents</th>\n",
       "      <th>clean_documents+</th>\n",
       "      <th>clean_token</th>\n",
       "      <th>clean_document</th>\n",
       "      <th>clean_document+</th>\n",
       "      <th>clean_document++</th>\n",
       "    </tr>\n",
       "  </thead>\n",
       "  <tbody>\n",
       "    <tr>\n",
       "      <th>0</th>\n",
       "      <td>Quand on voit l'aménagement du pont de Bellevu...</td>\n",
       "      <td>Quand on voit aménagement du pont de Bellevue ...</td>\n",
       "      <td>quand on voit aménagement du pont de bellevue ...</td>\n",
       "      <td>[voir, aménagement, pont, bellevue, porte, anj...</td>\n",
       "      <td>voir aménagement pont bellevue porte anjou dur...</td>\n",
       "      <td>voir aménagement pont bellevue porte anjou dur...</td>\n",
       "      <td>voir aménagement pont bellevue porte anjou dur...</td>\n",
       "    </tr>\n",
       "    <tr>\n",
       "      <th>1</th>\n",
       "      <td>Je suis complètement pour ce projet. Il est né...</td>\n",
       "      <td>Je suis complètement pour ce projet. Il est né...</td>\n",
       "      <td>je suis complètement pour ce projet. il est né...</td>\n",
       "      <td>[complètement, projet, nécessaire, réaménager,...</td>\n",
       "      <td>complètement projet nécessaire réaménager port...</td>\n",
       "      <td>complètement projet nécessaire réaménager port...</td>\n",
       "      <td>complètement projet nécessaire réaménager port...</td>\n",
       "    </tr>\n",
       "    <tr>\n",
       "      <th>2</th>\n",
       "      <td>Bonjour,\\n\\nBien noté la déconstruction du PS3...</td>\n",
       "      <td>Bonjour,  Bien noté la déconstruction du PS3. ...</td>\n",
       "      <td>bonjour,  bien noté la déconstruction du ps3. ...</td>\n",
       "      <td>[bonjour, noter, déconstruction, planning, pré...</td>\n",
       "      <td>bonjour noter déconstruction planning prévisio...</td>\n",
       "      <td>noter déconstruction planning prévisionnel no...</td>\n",
       "      <td>noter déconstruction planning prévisionnel no...</td>\n",
       "    </tr>\n",
       "    <tr>\n",
       "      <th>3</th>\n",
       "      <td>Bonjour,\\n\\nJe suis tout a fait pour ce projet...</td>\n",
       "      <td>Bonjour,  Je suis tout a fait pour ce projet q...</td>\n",
       "      <td>bonjour,  je suis tout a fait pour ce projet q...</td>\n",
       "      <td>[bonjour, projet, indispensable, trouve, proje...</td>\n",
       "      <td>bonjour projet indispensable trouve projet pré...</td>\n",
       "      <td>projet indispensable trouve projet prévoir ma...</td>\n",
       "      <td>projet indispensable trouve projet prévoir ma...</td>\n",
       "    </tr>\n",
       "    <tr>\n",
       "      <th>4</th>\n",
       "      <td>Bonjour, je suis tout à fait partisan du proje...</td>\n",
       "      <td>Bonjour, je suis tout à fait partisan du proje...</td>\n",
       "      <td>bonjour, je suis tout à fait partisan du proje...</td>\n",
       "      <td>[bonjour, partisan, projet, bon, sens, utilise...</td>\n",
       "      <td>bonjour partisan projet bon sens utiliser jour...</td>\n",
       "      <td>partisan projet bon sens utiliser jour trouve...</td>\n",
       "      <td>partisan projet bon sens utiliser jour trouve...</td>\n",
       "    </tr>\n",
       "  </tbody>\n",
       "</table>\n",
       "</div>"
      ],
      "text/plain": [
       "                                         Observation  ...                                   clean_document++\n",
       "0  Quand on voit l'aménagement du pont de Bellevu...  ...  voir aménagement pont bellevue porte anjou dur...\n",
       "1  Je suis complètement pour ce projet. Il est né...  ...  complètement projet nécessaire réaménager port...\n",
       "2  Bonjour,\\n\\nBien noté la déconstruction du PS3...  ...   noter déconstruction planning prévisionnel no...\n",
       "3  Bonjour,\\n\\nJe suis tout a fait pour ce projet...  ...   projet indispensable trouve projet prévoir ma...\n",
       "4  Bonjour, je suis tout à fait partisan du proje...  ...   partisan projet bon sens utiliser jour trouve...\n",
       "\n",
       "[5 rows x 7 columns]"
      ]
     },
     "execution_count": 25,
     "metadata": {
      "tags": []
     },
     "output_type": "execute_result"
    }
   ],
   "source": [
    "df2.head()"
   ]
  },
  {
   "cell_type": "code",
   "execution_count": 26,
   "metadata": {
    "colab": {
     "base_uri": "https://localhost:8080/",
     "height": 502
    },
    "id": "Gw5lv9LJEHPL",
    "outputId": "36bdac00-e42c-40b3-f146-bd3704bf9fce"
   },
   "outputs": [
    {
     "name": "stderr",
     "output_type": "stream",
     "text": [
      "/usr/local/lib/python3.6/dist-packages/ipykernel_launcher.py:3: SettingWithCopyWarning: \n",
      "A value is trying to be set on a copy of a slice from a DataFrame.\n",
      "Try using .loc[row_indexer,col_indexer] = value instead\n",
      "\n",
      "See the caveats in the documentation: https://pandas.pydata.org/pandas-docs/stable/user_guide/indexing.html#returning-a-view-versus-a-copy\n",
      "  This is separate from the ipykernel package so we can avoid doing imports until\n"
     ]
    },
    {
     "data": {
      "text/html": [
       "<div>\n",
       "<style scoped>\n",
       "    .dataframe tbody tr th:only-of-type {\n",
       "        vertical-align: middle;\n",
       "    }\n",
       "\n",
       "    .dataframe tbody tr th {\n",
       "        vertical-align: top;\n",
       "    }\n",
       "\n",
       "    .dataframe thead th {\n",
       "        text-align: right;\n",
       "    }\n",
       "</style>\n",
       "<table border=\"1\" class=\"dataframe\">\n",
       "  <thead>\n",
       "    <tr style=\"text-align: right;\">\n",
       "      <th></th>\n",
       "      <th>clean_document++</th>\n",
       "      <th>Sentiment</th>\n",
       "    </tr>\n",
       "  </thead>\n",
       "  <tbody>\n",
       "    <tr>\n",
       "      <th>0</th>\n",
       "      <td>voir aménagement pont bellevue porte anjou dur...</td>\n",
       "      <td>Plutôt défavorable au projet</td>\n",
       "    </tr>\n",
       "    <tr>\n",
       "      <th>1</th>\n",
       "      <td>complètement projet nécessaire réaménager port...</td>\n",
       "      <td>Plutôt favorable au projet</td>\n",
       "    </tr>\n",
       "    <tr>\n",
       "      <th>2</th>\n",
       "      <td>noter déconstruction planning prévisionnel no...</td>\n",
       "      <td>Plutôt favorable au projet</td>\n",
       "    </tr>\n",
       "    <tr>\n",
       "      <th>3</th>\n",
       "      <td>projet indispensable trouve projet prévoir ma...</td>\n",
       "      <td>Plutôt favorable au projet</td>\n",
       "    </tr>\n",
       "    <tr>\n",
       "      <th>4</th>\n",
       "      <td>partisan projet bon sens utiliser jour trouve...</td>\n",
       "      <td>Plutôt favorable au projet</td>\n",
       "    </tr>\n",
       "    <tr>\n",
       "      <th>...</th>\n",
       "      <td>...</td>\n",
       "      <td>...</td>\n",
       "    </tr>\n",
       "    <tr>\n",
       "      <th>334</th>\n",
       "      <td>habitant gesvrine craindre fortement travail ...</td>\n",
       "      <td>Neutre</td>\n",
       "    </tr>\n",
       "    <tr>\n",
       "      <th>335</th>\n",
       "      <td>joint trouver contribution élu groupe chapell...</td>\n",
       "      <td>NaN</td>\n",
       "    </tr>\n",
       "    <tr>\n",
       "      <th>336</th>\n",
       "      <td>voir observation registre pièce joindre</td>\n",
       "      <td>Plutôt favorable au projet</td>\n",
       "    </tr>\n",
       "    <tr>\n",
       "      <th>337</th>\n",
       "      <td>aménagement porte gevre revanche refair pont ...</td>\n",
       "      <td>Plutôt favorable au projet</td>\n",
       "    </tr>\n",
       "    <tr>\n",
       "      <th>338</th>\n",
       "      <td>partager totalement point vue émettre cadre pé...</td>\n",
       "      <td>Neutre</td>\n",
       "    </tr>\n",
       "  </tbody>\n",
       "</table>\n",
       "<p>339 rows × 2 columns</p>\n",
       "</div>"
      ],
      "text/plain": [
       "                                      clean_document++                     Sentiment\n",
       "0    voir aménagement pont bellevue porte anjou dur...  Plutôt défavorable au projet\n",
       "1    complètement projet nécessaire réaménager port...    Plutôt favorable au projet\n",
       "2     noter déconstruction planning prévisionnel no...    Plutôt favorable au projet\n",
       "3     projet indispensable trouve projet prévoir ma...    Plutôt favorable au projet\n",
       "4     partisan projet bon sens utiliser jour trouve...    Plutôt favorable au projet\n",
       "..                                                 ...                           ...\n",
       "334   habitant gesvrine craindre fortement travail ...                        Neutre\n",
       "335   joint trouver contribution élu groupe chapell...                           NaN\n",
       "336            voir observation registre pièce joindre    Plutôt favorable au projet\n",
       "337   aménagement porte gevre revanche refair pont ...    Plutôt favorable au projet\n",
       "338  partager totalement point vue émettre cadre pé...                        Neutre\n",
       "\n",
       "[339 rows x 2 columns]"
      ]
     },
     "execution_count": 26,
     "metadata": {
      "tags": []
     },
     "output_type": "execute_result"
    }
   ],
   "source": [
    "# Let's take the columns we're interested in \r\n",
    "df_final = df2[[\"clean_document++\"]]\r\n",
    "df_final['Sentiment'] = df.Teneur\r\n",
    "df_final"
   ]
  },
  {
   "cell_type": "code",
   "execution_count": 27,
   "metadata": {
    "colab": {
     "base_uri": "https://localhost:8080/"
    },
    "id": "mrTCUMxjMf1z",
    "outputId": "84363fd7-dc80-4ce3-e857-ea70a0177e5b"
   },
   "outputs": [
    {
     "data": {
      "text/plain": [
       "Neutre                          220\n",
       "Plutôt favorable au projet       76\n",
       "Plutôt défavorable au projet     29\n",
       "Name: Sentiment, dtype: int64"
      ]
     },
     "execution_count": 27,
     "metadata": {
      "tags": []
     },
     "output_type": "execute_result"
    }
   ],
   "source": [
    "df_final.Sentiment.value_counts()"
   ]
  },
  {
   "cell_type": "code",
   "execution_count": 28,
   "metadata": {
    "colab": {
     "base_uri": "https://localhost:8080/",
     "height": 502
    },
    "id": "HOldWXvOwfgi",
    "outputId": "f4320184-f337-43f9-f53d-df2188f40f0f"
   },
   "outputs": [
    {
     "name": "stderr",
     "output_type": "stream",
     "text": [
      "/usr/local/lib/python3.6/dist-packages/ipykernel_launcher.py:1: SettingWithCopyWarning: \n",
      "A value is trying to be set on a copy of a slice from a DataFrame.\n",
      "Try using .loc[row_indexer,col_indexer] = value instead\n",
      "\n",
      "See the caveats in the documentation: https://pandas.pydata.org/pandas-docs/stable/user_guide/indexing.html#returning-a-view-versus-a-copy\n",
      "  \"\"\"Entry point for launching an IPython kernel.\n"
     ]
    },
    {
     "data": {
      "text/html": [
       "<div>\n",
       "<style scoped>\n",
       "    .dataframe tbody tr th:only-of-type {\n",
       "        vertical-align: middle;\n",
       "    }\n",
       "\n",
       "    .dataframe tbody tr th {\n",
       "        vertical-align: top;\n",
       "    }\n",
       "\n",
       "    .dataframe thead th {\n",
       "        text-align: right;\n",
       "    }\n",
       "</style>\n",
       "<table border=\"1\" class=\"dataframe\">\n",
       "  <thead>\n",
       "    <tr style=\"text-align: right;\">\n",
       "      <th></th>\n",
       "      <th>clean_document++</th>\n",
       "      <th>Sentiment</th>\n",
       "    </tr>\n",
       "  </thead>\n",
       "  <tbody>\n",
       "    <tr>\n",
       "      <th>0</th>\n",
       "      <td>voir aménagement pont bellevue porte anjou dur...</td>\n",
       "      <td>Plutôt défavorable au projet</td>\n",
       "    </tr>\n",
       "    <tr>\n",
       "      <th>1</th>\n",
       "      <td>complètement projet nécessaire réaménager port...</td>\n",
       "      <td>Plutôt favorable au projet</td>\n",
       "    </tr>\n",
       "    <tr>\n",
       "      <th>2</th>\n",
       "      <td>noter déconstruction planning prévisionnel no...</td>\n",
       "      <td>Plutôt favorable au projet</td>\n",
       "    </tr>\n",
       "    <tr>\n",
       "      <th>3</th>\n",
       "      <td>projet indispensable trouve projet prévoir ma...</td>\n",
       "      <td>Plutôt favorable au projet</td>\n",
       "    </tr>\n",
       "    <tr>\n",
       "      <th>4</th>\n",
       "      <td>partisan projet bon sens utiliser jour trouve...</td>\n",
       "      <td>Plutôt favorable au projet</td>\n",
       "    </tr>\n",
       "    <tr>\n",
       "      <th>...</th>\n",
       "      <td>...</td>\n",
       "      <td>...</td>\n",
       "    </tr>\n",
       "    <tr>\n",
       "      <th>334</th>\n",
       "      <td>habitant gesvrine craindre fortement travail ...</td>\n",
       "      <td>Neutre</td>\n",
       "    </tr>\n",
       "    <tr>\n",
       "      <th>335</th>\n",
       "      <td>joint trouver contribution élu groupe chapell...</td>\n",
       "      <td>NaN</td>\n",
       "    </tr>\n",
       "    <tr>\n",
       "      <th>336</th>\n",
       "      <td>++</td>\n",
       "      <td>Plutôt favorable au projet</td>\n",
       "    </tr>\n",
       "    <tr>\n",
       "      <th>337</th>\n",
       "      <td>aménagement porte gevre revanche refair pont ...</td>\n",
       "      <td>Plutôt favorable au projet</td>\n",
       "    </tr>\n",
       "    <tr>\n",
       "      <th>338</th>\n",
       "      <td>partager totalement point vue émettre cadre pé...</td>\n",
       "      <td>Neutre</td>\n",
       "    </tr>\n",
       "  </tbody>\n",
       "</table>\n",
       "<p>339 rows × 2 columns</p>\n",
       "</div>"
      ],
      "text/plain": [
       "                                      clean_document++                     Sentiment\n",
       "0    voir aménagement pont bellevue porte anjou dur...  Plutôt défavorable au projet\n",
       "1    complètement projet nécessaire réaménager port...    Plutôt favorable au projet\n",
       "2     noter déconstruction planning prévisionnel no...    Plutôt favorable au projet\n",
       "3     projet indispensable trouve projet prévoir ma...    Plutôt favorable au projet\n",
       "4     partisan projet bon sens utiliser jour trouve...    Plutôt favorable au projet\n",
       "..                                                 ...                           ...\n",
       "334   habitant gesvrine craindre fortement travail ...                        Neutre\n",
       "335   joint trouver contribution élu groupe chapell...                           NaN\n",
       "336                                                 ++    Plutôt favorable au projet\n",
       "337   aménagement porte gevre revanche refair pont ...    Plutôt favorable au projet\n",
       "338  partager totalement point vue émettre cadre pé...                        Neutre\n",
       "\n",
       "[339 rows x 2 columns]"
      ]
     },
     "execution_count": 28,
     "metadata": {
      "tags": []
     },
     "output_type": "execute_result"
    }
   ],
   "source": [
    "df_final['clean_document++'] = df_final['clean_document++'].apply(lambda x: x.replace('voir observation registre pièce joindre', '++'))\r\n",
    "df_final"
   ]
  },
  {
   "cell_type": "code",
   "execution_count": 29,
   "metadata": {
    "colab": {
     "base_uri": "https://localhost:8080/"
    },
    "id": "upRn0TpzErWC",
    "outputId": "14f1f4d5-eccf-40e5-976a-3e09e1013efc"
   },
   "outputs": [
    {
     "data": {
      "text/plain": [
       "Int64Index([323, 324, 325, 326, 327, 328, 329, 332, 333, 336], dtype='int64')"
      ]
     },
     "execution_count": 29,
     "metadata": {
      "tags": []
     },
     "output_type": "execute_result"
    }
   ],
   "source": [
    "delete_row = df_final.loc[df_final[\"clean_document++\"] == \"++\"].index\r\n",
    "delete_row"
   ]
  },
  {
   "cell_type": "code",
   "execution_count": 30,
   "metadata": {
    "colab": {
     "base_uri": "https://localhost:8080/",
     "height": 402
    },
    "id": "Hn16Wxh4Eo4P",
    "outputId": "70d7ee1a-a5fe-47d9-df22-e3aaa121ae50"
   },
   "outputs": [
    {
     "data": {
      "text/html": [
       "<div>\n",
       "<style scoped>\n",
       "    .dataframe tbody tr th:only-of-type {\n",
       "        vertical-align: middle;\n",
       "    }\n",
       "\n",
       "    .dataframe tbody tr th {\n",
       "        vertical-align: top;\n",
       "    }\n",
       "\n",
       "    .dataframe thead th {\n",
       "        text-align: right;\n",
       "    }\n",
       "</style>\n",
       "<table border=\"1\" class=\"dataframe\">\n",
       "  <thead>\n",
       "    <tr style=\"text-align: right;\">\n",
       "      <th></th>\n",
       "      <th>clean_document++</th>\n",
       "      <th>Sentiment</th>\n",
       "    </tr>\n",
       "  </thead>\n",
       "  <tbody>\n",
       "    <tr>\n",
       "      <th>0</th>\n",
       "      <td>voir aménagement pont bellevue porte anjou dur...</td>\n",
       "      <td>Plutôt défavorable au projet</td>\n",
       "    </tr>\n",
       "    <tr>\n",
       "      <th>1</th>\n",
       "      <td>complètement projet nécessaire réaménager port...</td>\n",
       "      <td>Plutôt favorable au projet</td>\n",
       "    </tr>\n",
       "    <tr>\n",
       "      <th>2</th>\n",
       "      <td>noter déconstruction planning prévisionnel no...</td>\n",
       "      <td>Plutôt favorable au projet</td>\n",
       "    </tr>\n",
       "    <tr>\n",
       "      <th>3</th>\n",
       "      <td>projet indispensable trouve projet prévoir ma...</td>\n",
       "      <td>Plutôt favorable au projet</td>\n",
       "    </tr>\n",
       "    <tr>\n",
       "      <th>4</th>\n",
       "      <td>partisan projet bon sens utiliser jour trouve...</td>\n",
       "      <td>Plutôt favorable au projet</td>\n",
       "    </tr>\n",
       "    <tr>\n",
       "      <th>...</th>\n",
       "      <td>...</td>\n",
       "      <td>...</td>\n",
       "    </tr>\n",
       "    <tr>\n",
       "      <th>330</th>\n",
       "      <td>utilisateur quotidien porte gesvre anticiper ...</td>\n",
       "      <td>Plutôt favorable au projet</td>\n",
       "    </tr>\n",
       "    <tr>\n",
       "      <th>331</th>\n",
       "      <td>contribution elu chapelle action groupe minori...</td>\n",
       "      <td>Plutôt favorable au projet</td>\n",
       "    </tr>\n",
       "    <tr>\n",
       "      <th>334</th>\n",
       "      <td>habitant gesvrine craindre fortement travail ...</td>\n",
       "      <td>Neutre</td>\n",
       "    </tr>\n",
       "    <tr>\n",
       "      <th>337</th>\n",
       "      <td>aménagement porte gevre revanche refair pont ...</td>\n",
       "      <td>Plutôt favorable au projet</td>\n",
       "    </tr>\n",
       "    <tr>\n",
       "      <th>338</th>\n",
       "      <td>partager totalement point vue émettre cadre pé...</td>\n",
       "      <td>Neutre</td>\n",
       "    </tr>\n",
       "  </tbody>\n",
       "</table>\n",
       "<p>315 rows × 2 columns</p>\n",
       "</div>"
      ],
      "text/plain": [
       "                                      clean_document++                     Sentiment\n",
       "0    voir aménagement pont bellevue porte anjou dur...  Plutôt défavorable au projet\n",
       "1    complètement projet nécessaire réaménager port...    Plutôt favorable au projet\n",
       "2     noter déconstruction planning prévisionnel no...    Plutôt favorable au projet\n",
       "3     projet indispensable trouve projet prévoir ma...    Plutôt favorable au projet\n",
       "4     partisan projet bon sens utiliser jour trouve...    Plutôt favorable au projet\n",
       "..                                                 ...                           ...\n",
       "330   utilisateur quotidien porte gesvre anticiper ...    Plutôt favorable au projet\n",
       "331  contribution elu chapelle action groupe minori...    Plutôt favorable au projet\n",
       "334   habitant gesvrine craindre fortement travail ...                        Neutre\n",
       "337   aménagement porte gevre revanche refair pont ...    Plutôt favorable au projet\n",
       "338  partager totalement point vue émettre cadre pé...                        Neutre\n",
       "\n",
       "[315 rows x 2 columns]"
      ]
     },
     "execution_count": 30,
     "metadata": {
      "tags": []
     },
     "output_type": "execute_result"
    }
   ],
   "source": [
    "df_final = df_final.loc[df_final.index.drop(list(delete_row))]\r\n",
    "df_final = df_final.dropna(axis = 0)\r\n",
    "df_final"
   ]
  },
  {
   "cell_type": "code",
   "execution_count": 31,
   "metadata": {
    "colab": {
     "base_uri": "https://localhost:8080/",
     "height": 195
    },
    "id": "ZzX5qf76FZPA",
    "outputId": "4b8fd287-2f8f-4d80-e2a6-073dce925762"
   },
   "outputs": [
    {
     "data": {
      "text/html": [
       "<div>\n",
       "<style scoped>\n",
       "    .dataframe tbody tr th:only-of-type {\n",
       "        vertical-align: middle;\n",
       "    }\n",
       "\n",
       "    .dataframe tbody tr th {\n",
       "        vertical-align: top;\n",
       "    }\n",
       "\n",
       "    .dataframe thead th {\n",
       "        text-align: right;\n",
       "    }\n",
       "</style>\n",
       "<table border=\"1\" class=\"dataframe\">\n",
       "  <thead>\n",
       "    <tr style=\"text-align: right;\">\n",
       "      <th></th>\n",
       "      <th>index</th>\n",
       "      <th>clean_document++</th>\n",
       "      <th>Sentiment</th>\n",
       "    </tr>\n",
       "  </thead>\n",
       "  <tbody>\n",
       "    <tr>\n",
       "      <th>310</th>\n",
       "      <td>330</td>\n",
       "      <td>utilisateur quotidien porte gesvre anticiper ...</td>\n",
       "      <td>Plutôt favorable au projet</td>\n",
       "    </tr>\n",
       "    <tr>\n",
       "      <th>311</th>\n",
       "      <td>331</td>\n",
       "      <td>contribution elu chapelle action groupe minori...</td>\n",
       "      <td>Plutôt favorable au projet</td>\n",
       "    </tr>\n",
       "    <tr>\n",
       "      <th>312</th>\n",
       "      <td>334</td>\n",
       "      <td>habitant gesvrine craindre fortement travail ...</td>\n",
       "      <td>Neutre</td>\n",
       "    </tr>\n",
       "    <tr>\n",
       "      <th>313</th>\n",
       "      <td>337</td>\n",
       "      <td>aménagement porte gevre revanche refair pont ...</td>\n",
       "      <td>Plutôt favorable au projet</td>\n",
       "    </tr>\n",
       "    <tr>\n",
       "      <th>314</th>\n",
       "      <td>338</td>\n",
       "      <td>partager totalement point vue émettre cadre pé...</td>\n",
       "      <td>Neutre</td>\n",
       "    </tr>\n",
       "  </tbody>\n",
       "</table>\n",
       "</div>"
      ],
      "text/plain": [
       "     index  ...                   Sentiment\n",
       "310    330  ...  Plutôt favorable au projet\n",
       "311    331  ...  Plutôt favorable au projet\n",
       "312    334  ...                      Neutre\n",
       "313    337  ...  Plutôt favorable au projet\n",
       "314    338  ...                      Neutre\n",
       "\n",
       "[5 rows x 3 columns]"
      ]
     },
     "execution_count": 31,
     "metadata": {
      "tags": []
     },
     "output_type": "execute_result"
    }
   ],
   "source": [
    "df_final = df_final.reset_index()\r\n",
    "df_final.tail()"
   ]
  },
  {
   "cell_type": "code",
   "execution_count": 32,
   "metadata": {
    "colab": {
     "base_uri": "https://localhost:8080/",
     "height": 402
    },
    "id": "5TufqpCNFyL7",
    "outputId": "9770fb02-a4c0-4031-b488-55e62e9b6d9a"
   },
   "outputs": [
    {
     "data": {
      "text/html": [
       "<div>\n",
       "<style scoped>\n",
       "    .dataframe tbody tr th:only-of-type {\n",
       "        vertical-align: middle;\n",
       "    }\n",
       "\n",
       "    .dataframe tbody tr th {\n",
       "        vertical-align: top;\n",
       "    }\n",
       "\n",
       "    .dataframe thead th {\n",
       "        text-align: right;\n",
       "    }\n",
       "</style>\n",
       "<table border=\"1\" class=\"dataframe\">\n",
       "  <thead>\n",
       "    <tr style=\"text-align: right;\">\n",
       "      <th></th>\n",
       "      <th>clean_document++</th>\n",
       "      <th>Sentiment</th>\n",
       "    </tr>\n",
       "  </thead>\n",
       "  <tbody>\n",
       "    <tr>\n",
       "      <th>0</th>\n",
       "      <td>voir aménagement pont bellevue porte anjou dur...</td>\n",
       "      <td>Plutôt défavorable au projet</td>\n",
       "    </tr>\n",
       "    <tr>\n",
       "      <th>1</th>\n",
       "      <td>complètement projet nécessaire réaménager port...</td>\n",
       "      <td>Plutôt favorable au projet</td>\n",
       "    </tr>\n",
       "    <tr>\n",
       "      <th>2</th>\n",
       "      <td>noter déconstruction planning prévisionnel no...</td>\n",
       "      <td>Plutôt favorable au projet</td>\n",
       "    </tr>\n",
       "    <tr>\n",
       "      <th>3</th>\n",
       "      <td>projet indispensable trouve projet prévoir ma...</td>\n",
       "      <td>Plutôt favorable au projet</td>\n",
       "    </tr>\n",
       "    <tr>\n",
       "      <th>4</th>\n",
       "      <td>partisan projet bon sens utiliser jour trouve...</td>\n",
       "      <td>Plutôt favorable au projet</td>\n",
       "    </tr>\n",
       "    <tr>\n",
       "      <th>...</th>\n",
       "      <td>...</td>\n",
       "      <td>...</td>\n",
       "    </tr>\n",
       "    <tr>\n",
       "      <th>310</th>\n",
       "      <td>utilisateur quotidien porte gesvre anticiper ...</td>\n",
       "      <td>Plutôt favorable au projet</td>\n",
       "    </tr>\n",
       "    <tr>\n",
       "      <th>311</th>\n",
       "      <td>contribution elu chapelle action groupe minori...</td>\n",
       "      <td>Plutôt favorable au projet</td>\n",
       "    </tr>\n",
       "    <tr>\n",
       "      <th>312</th>\n",
       "      <td>habitant gesvrine craindre fortement travail ...</td>\n",
       "      <td>Neutre</td>\n",
       "    </tr>\n",
       "    <tr>\n",
       "      <th>313</th>\n",
       "      <td>aménagement porte gevre revanche refair pont ...</td>\n",
       "      <td>Plutôt favorable au projet</td>\n",
       "    </tr>\n",
       "    <tr>\n",
       "      <th>314</th>\n",
       "      <td>partager totalement point vue émettre cadre pé...</td>\n",
       "      <td>Neutre</td>\n",
       "    </tr>\n",
       "  </tbody>\n",
       "</table>\n",
       "<p>315 rows × 2 columns</p>\n",
       "</div>"
      ],
      "text/plain": [
       "                                      clean_document++                     Sentiment\n",
       "0    voir aménagement pont bellevue porte anjou dur...  Plutôt défavorable au projet\n",
       "1    complètement projet nécessaire réaménager port...    Plutôt favorable au projet\n",
       "2     noter déconstruction planning prévisionnel no...    Plutôt favorable au projet\n",
       "3     projet indispensable trouve projet prévoir ma...    Plutôt favorable au projet\n",
       "4     partisan projet bon sens utiliser jour trouve...    Plutôt favorable au projet\n",
       "..                                                 ...                           ...\n",
       "310   utilisateur quotidien porte gesvre anticiper ...    Plutôt favorable au projet\n",
       "311  contribution elu chapelle action groupe minori...    Plutôt favorable au projet\n",
       "312   habitant gesvrine craindre fortement travail ...                        Neutre\n",
       "313   aménagement porte gevre revanche refair pont ...    Plutôt favorable au projet\n",
       "314  partager totalement point vue émettre cadre pé...                        Neutre\n",
       "\n",
       "[315 rows x 2 columns]"
      ]
     },
     "execution_count": 32,
     "metadata": {
      "tags": []
     },
     "output_type": "execute_result"
    }
   ],
   "source": [
    "df_final = df_final.drop(columns = ['index'])\r\n",
    "df_final"
   ]
  },
  {
   "cell_type": "code",
   "execution_count": 33,
   "metadata": {
    "id": "wbJtTgO-JH-W"
   },
   "outputs": [],
   "source": [
    "from sklearn import preprocessing, model_selection\r\n",
    "df_final['Sentiment'] = df_final['Sentiment'].apply(lambda x: str(x))"
   ]
  },
  {
   "cell_type": "code",
   "execution_count": 34,
   "metadata": {
    "id": "3rQHn6GEKaCQ"
   },
   "outputs": [],
   "source": [
    "le = preprocessing.LabelEncoder()\r\n",
    "le.fit(df_final['Sentiment'])\r\n",
    "labels = le.transform(df_final['Sentiment'])\r\n",
    "df_final['Sentiments'] = labels"
   ]
  },
  {
   "cell_type": "code",
   "execution_count": 35,
   "metadata": {
    "id": "K9OmXnTkLdJw"
   },
   "outputs": [],
   "source": [
    "df_final = df_final.drop(columns = ['Sentiment'])"
   ]
  },
  {
   "cell_type": "code",
   "execution_count": 36,
   "metadata": {
    "colab": {
     "base_uri": "https://localhost:8080/",
     "height": 195
    },
    "id": "C2x5HzncKO7o",
    "outputId": "333d39c2-936b-46b8-8879-d9260bb8b06d"
   },
   "outputs": [
    {
     "data": {
      "text/html": [
       "<div>\n",
       "<style scoped>\n",
       "    .dataframe tbody tr th:only-of-type {\n",
       "        vertical-align: middle;\n",
       "    }\n",
       "\n",
       "    .dataframe tbody tr th {\n",
       "        vertical-align: top;\n",
       "    }\n",
       "\n",
       "    .dataframe thead th {\n",
       "        text-align: right;\n",
       "    }\n",
       "</style>\n",
       "<table border=\"1\" class=\"dataframe\">\n",
       "  <thead>\n",
       "    <tr style=\"text-align: right;\">\n",
       "      <th></th>\n",
       "      <th>clean_document++</th>\n",
       "      <th>Sentiments</th>\n",
       "    </tr>\n",
       "  </thead>\n",
       "  <tbody>\n",
       "    <tr>\n",
       "      <th>0</th>\n",
       "      <td>voir aménagement pont bellevue porte anjou dur...</td>\n",
       "      <td>1</td>\n",
       "    </tr>\n",
       "    <tr>\n",
       "      <th>1</th>\n",
       "      <td>complètement projet nécessaire réaménager port...</td>\n",
       "      <td>2</td>\n",
       "    </tr>\n",
       "    <tr>\n",
       "      <th>2</th>\n",
       "      <td>noter déconstruction planning prévisionnel no...</td>\n",
       "      <td>2</td>\n",
       "    </tr>\n",
       "    <tr>\n",
       "      <th>3</th>\n",
       "      <td>projet indispensable trouve projet prévoir ma...</td>\n",
       "      <td>2</td>\n",
       "    </tr>\n",
       "    <tr>\n",
       "      <th>4</th>\n",
       "      <td>partisan projet bon sens utiliser jour trouve...</td>\n",
       "      <td>2</td>\n",
       "    </tr>\n",
       "  </tbody>\n",
       "</table>\n",
       "</div>"
      ],
      "text/plain": [
       "                                    clean_document++  Sentiments\n",
       "0  voir aménagement pont bellevue porte anjou dur...           1\n",
       "1  complètement projet nécessaire réaménager port...           2\n",
       "2   noter déconstruction planning prévisionnel no...           2\n",
       "3   projet indispensable trouve projet prévoir ma...           2\n",
       "4   partisan projet bon sens utiliser jour trouve...           2"
      ]
     },
     "execution_count": 36,
     "metadata": {
      "tags": []
     },
     "output_type": "execute_result"
    }
   ],
   "source": [
    "df_final.head()"
   ]
  },
  {
   "cell_type": "code",
   "execution_count": 37,
   "metadata": {
    "colab": {
     "base_uri": "https://localhost:8080/"
    },
    "id": "W0wI1RFmL2RJ",
    "outputId": "52307037-cedd-4c39-ed50-c249357aeb9b"
   },
   "outputs": [
    {
     "data": {
      "text/plain": [
       "0    217\n",
       "2     73\n",
       "1     25\n",
       "Name: Sentiments, dtype: int64"
      ]
     },
     "execution_count": 37,
     "metadata": {
      "tags": []
     },
     "output_type": "execute_result"
    }
   ],
   "source": [
    "df_final.Sentiments.value_counts()"
   ]
  },
  {
   "cell_type": "markdown",
   "metadata": {
    "id": "ezu9OVrSOS85"
   },
   "source": [
    "# 4/ Preprocess for DL"
   ]
  },
  {
   "cell_type": "code",
   "execution_count": 38,
   "metadata": {
    "colab": {
     "base_uri": "https://localhost:8080/"
    },
    "id": "OGSoOUmGL0Dx",
    "outputId": "e51cd073-3d02-4037-a137-39df85f2bca1"
   },
   "outputs": [
    {
     "data": {
      "text/plain": [
       "<keras_preprocessing.text.Tokenizer at 0x7f085ff2f7f0>"
      ]
     },
     "execution_count": 38,
     "metadata": {
      "tags": []
     },
     "output_type": "execute_result"
    }
   ],
   "source": [
    "# create a tokenizer instance\r\n",
    "import tensorflow as tf\r\n",
    "tokenizer = tf.keras.preprocessing.text.Tokenizer()\r\n",
    "tokenizer"
   ]
  },
  {
   "cell_type": "code",
   "execution_count": 39,
   "metadata": {
    "id": "3wr1NmkHOSKn"
   },
   "outputs": [],
   "source": [
    "tokenizer.fit_on_texts(df_final['clean_document++'])"
   ]
  },
  {
   "cell_type": "code",
   "execution_count": 40,
   "metadata": {
    "colab": {
     "base_uri": "https://localhost:8080/"
    },
    "id": "6tD32B6-OdfW",
    "outputId": "1de7ab23-b243-4946-9cd9-824bde7fd4b5"
   },
   "outputs": [
    {
     "data": {
      "text/plain": [
       "{'travail': 1,\n",
       " 'voie': 2,\n",
       " 'pont': 3,\n",
       " 'chapelle': 4,\n",
       " 'porte': 5,\n",
       " 'chaillou': 6,\n",
       " 'nante': 7,\n",
       " 'périphérique': 8,\n",
       " 'projet': 9,\n",
       " 'hameau': 10,\n",
       " 'route': 11,\n",
       " 'gesvre': 12,\n",
       " 'public': 13,\n",
       " 'angl': 14,\n",
       " 'circulation': 15,\n",
       " 'angle': 16,\n",
       " 'demander': 17,\n",
       " 'place': 18,\n",
       " 'erdre': 19,\n",
       " 'cyclable': 20,\n",
       " 'enquête': 21,\n",
       " 'habitant': 22,\n",
       " 'nord': 23,\n",
       " 'aménagement': 24,\n",
       " 'trafic': 25,\n",
       " 'autoroute': 26,\n",
       " 'prévoir': 27,\n",
       " 'point': 28,\n",
       " 'prendre': 29,\n",
       " 'faire': 30,\n",
       " 'zone': 31,\n",
       " 'mesure': 32,\n",
       " 'métropole': 33,\n",
       " 'mise': 34,\n",
       " 'solution': 35,\n",
       " 'déjà': 36,\n",
       " 'être': 37,\n",
       " 'bouchon': 38,\n",
       " 'temps': 39,\n",
       " 'actuel': 40,\n",
       " 'falloir': 41,\n",
       " 'long': 42,\n",
       " 'usager': 43,\n",
       " 'voiture': 44,\n",
       " 'fermeture': 45,\n",
       " 'vélo': 46,\n",
       " 'renne': 47,\n",
       " 'cycliste': 48,\n",
       " 'commun': 49,\n",
       " 'ligne': 50,\n",
       " 'transport': 51,\n",
       " 'préserver': 52,\n",
       " 'durée': 53,\n",
       " 'permettre': 54,\n",
       " 'piéton': 55,\n",
       " 'mettre': 56,\n",
       " 'mur': 57,\n",
       " 'bruit': 58,\n",
       " 'pouvoir': 59,\n",
       " 'quartier': 60,\n",
       " 'mois': 61,\n",
       " 'devoir': 62,\n",
       " 'dossier': 63,\n",
       " 'passerelle': 64,\n",
       " 'plum': 65,\n",
       " 'dernier': 66,\n",
       " 'impact': 67,\n",
       " 'heure': 68,\n",
       " 'important': 69,\n",
       " 'nouveau': 70,\n",
       " 'piste': 71,\n",
       " 'gesvrine': 72,\n",
       " 'talus': 73,\n",
       " 'véhicule': 74,\n",
       " 'acoustique': 75,\n",
       " 'supérieur': 76,\n",
       " 'pièce': 77,\n",
       " 'jour': 78,\n",
       " 'bus': 79,\n",
       " 'association': 80,\n",
       " 'sur': 81,\n",
       " 'réduire': 82,\n",
       " 'monsieur': 83,\n",
       " 'jardin': 84,\n",
       " 'liaison': 85,\n",
       " 'niveau': 86,\n",
       " 'supplémentaire': 87,\n",
       " 'confirmer': 88,\n",
       " 'accès': 89,\n",
       " 'nécessaire': 90,\n",
       " 'bon': 91,\n",
       " 'compte': 92,\n",
       " 'service': 93,\n",
       " 'observation': 94,\n",
       " 'maison': 95,\n",
       " 'passage': 96,\n",
       " 'choix': 97,\n",
       " 'chaussée': 98,\n",
       " 'rond': 99,\n",
       " 'venir': 100,\n",
       " 'grand': 101,\n",
       " 'mode': 102,\n",
       " 'trouver': 103,\n",
       " 'éviter': 104,\n",
       " 'axe': 105,\n",
       " 'nuisance': 106,\n",
       " 'objectif': 107,\n",
       " 'partie': 108,\n",
       " 'pollution': 109,\n",
       " 'riverain': 110,\n",
       " 'habitation': 111,\n",
       " 'sortie': 112,\n",
       " 'passer': 113,\n",
       " 'aller': 114,\n",
       " 'fibre': 115,\n",
       " 'jusque': 116,\n",
       " 'direction': 117,\n",
       " 'vinci': 118,\n",
       " 'problème': 119,\n",
       " 'carquefou': 120,\n",
       " 'registre': 121,\n",
       " 'ville': 122,\n",
       " 'arrêt': 123,\n",
       " 'déplacement': 124,\n",
       " 'avis': 125,\n",
       " 'arbre': 126,\n",
       " 'hameal': 127,\n",
       " 'volonté': 128,\n",
       " 'carrefour': 129,\n",
       " 'vouloir': 130,\n",
       " 'assurer': 131,\n",
       " 'secteur': 132,\n",
       " 'chantier': 133,\n",
       " 'envisager': 134,\n",
       " 'maintenir': 135,\n",
       " 'collectif': 136,\n",
       " 'trajet': 137,\n",
       " 'coupure': 138,\n",
       " 'routier': 139,\n",
       " 'qualité': 140,\n",
       " 'golf': 141,\n",
       " 'sonore': 142,\n",
       " 'échangeur': 143,\n",
       " 'créer': 144,\n",
       " 'côté': 145,\n",
       " 'ner': 146,\n",
       " 'protéger': 147,\n",
       " 'cassin': 148,\n",
       " 'ouvrage': 149,\n",
       " 'raccordement': 150,\n",
       " 'également': 151,\n",
       " 'actuellement': 152,\n",
       " 'année': 153,\n",
       " 'rejoindre': 154,\n",
       " 'continuité': 155,\n",
       " 'écologique': 156,\n",
       " 'séparer': 157,\n",
       " 'nantais': 158,\n",
       " 'hauteur': 159,\n",
       " 'provisoire': 160,\n",
       " 'mairie': 161,\n",
       " 'centre': 162,\n",
       " 'rené': 163,\n",
       " 'augmentation': 164,\n",
       " 'réseau': 165,\n",
       " 'pointe': 166,\n",
       " 'conserver': 167,\n",
       " 'doux': 168,\n",
       " 'période': 169,\n",
       " 'air': 170,\n",
       " 'penser': 171,\n",
       " 'titre': 172,\n",
       " 'équipement': 173,\n",
       " 'voir': 174,\n",
       " 'indispensable': 175,\n",
       " 'vitesse': 176,\n",
       " 'sens': 177,\n",
       " 'déviation': 178,\n",
       " 'eau': 179,\n",
       " 'traverser': 180,\n",
       " 'emprise': 181,\n",
       " 'montre': 182,\n",
       " 'coupe': 183,\n",
       " 'espace': 184,\n",
       " 'tram': 185,\n",
       " 'modification': 186,\n",
       " 'référencer': 187,\n",
       " 'classement': 188,\n",
       " 'réglementaire': 189,\n",
       " 'pager': 190,\n",
       " 'tan': 191,\n",
       " 'mètre': 192,\n",
       " 'construire': 193,\n",
       " 'péage': 194,\n",
       " 'automobile': 195,\n",
       " 'pist': 196,\n",
       " 'souhaiter': 197,\n",
       " 'temporaire': 198,\n",
       " 'desservir': 199,\n",
       " 'alternatif': 200,\n",
       " 'commune': 201,\n",
       " 'territoire': 202,\n",
       " 'boîtier': 203,\n",
       " 'assainissement': 204,\n",
       " 'vie': 205,\n",
       " 'lier': 206,\n",
       " 'environnemental': 207,\n",
       " 'limiter': 208,\n",
       " 'part': 209,\n",
       " 'conséquence': 210,\n",
       " 'situer': 211,\n",
       " 'écran': 212,\n",
       " 'einstein': 213,\n",
       " 'scolaire': 214,\n",
       " 'rester': 215,\n",
       " 'ume': 216,\n",
       " 'nombre': 217,\n",
       " 'flux': 218,\n",
       " 'paris': 219,\n",
       " 'emprunter': 220,\n",
       " 'proposer': 221,\n",
       " 'existe': 222,\n",
       " 'ancien': 223,\n",
       " 'saturer': 224,\n",
       " 'étude': 225,\n",
       " 'antibruit': 226,\n",
       " 'compensation': 227,\n",
       " 'plan': 228,\n",
       " 'automobiliste': 229,\n",
       " 'réaliser': 230,\n",
       " 'savoir': 231,\n",
       " 'dévier': 232,\n",
       " 'aire': 233,\n",
       " 'détention': 234,\n",
       " 'établissement': 235,\n",
       " 'village': 236,\n",
       " 'autour': 237,\n",
       " 'quotidien': 238,\n",
       " 'cas': 239,\n",
       " 'utiliser': 240,\n",
       " 'augmenter': 241,\n",
       " 'travailler': 242,\n",
       " 'risque': 243,\n",
       " 'itinéraire': 244,\n",
       " 'fois': 245,\n",
       " 'fond': 246,\n",
       " 'régulièrement': 247,\n",
       " 'kilomètre': 248,\n",
       " 'chapelain': 249,\n",
       " 'général': 250,\n",
       " 'protection': 251,\n",
       " 'enrobé': 252,\n",
       " 'ajouter': 253,\n",
       " 'commerce': 254,\n",
       " 'reconstruction': 255,\n",
       " 'joindre': 256,\n",
       " 'inondation': 257,\n",
       " 'périph': 258,\n",
       " 'dangereux': 259,\n",
       " 'portion': 260,\n",
       " 'personne': 261,\n",
       " 'réalisation': 262,\n",
       " 'arriver': 263,\n",
       " 'mobilité': 264,\n",
       " 'département': 265,\n",
       " 'verrière': 266,\n",
       " 'ouest': 267,\n",
       " 'santé': 268,\n",
       " 'sécurité': 269,\n",
       " 'efficace': 270,\n",
       " 'ambiance': 271,\n",
       " 'proche': 272,\n",
       " 'transports': 273,\n",
       " 'emplacement': 274,\n",
       " 'enseignement': 275,\n",
       " 'albert': 276,\n",
       " 'buse': 277,\n",
       " 'ménardais': 278,\n",
       " 'matin': 279,\n",
       " 'vert': 280,\n",
       " 'trouve': 281,\n",
       " 'fluidifier': 282,\n",
       " 'maximum': 283,\n",
       " 'orvault': 284,\n",
       " 'nantes': 285,\n",
       " 'aujourhui': 286,\n",
       " 'habiter': 287,\n",
       " 'boulevard': 288,\n",
       " 'impacter': 289,\n",
       " 'bretelle': 290,\n",
       " 'joint': 291,\n",
       " 'intérêt': 292,\n",
       " 'demande': 293,\n",
       " 'construction': 294,\n",
       " 'générer': 295,\n",
       " 'alternative': 296,\n",
       " 'social': 297,\n",
       " 'entreprise': 298,\n",
       " 'complément': 299,\n",
       " 'bibliothèque': 300,\n",
       " 'besoin': 301,\n",
       " 'sportif': 302,\n",
       " 'extérieur': 303,\n",
       " 'ensemble': 304,\n",
       " 'réception': 305,\n",
       " 'type': 306,\n",
       " 'fin': 307,\n",
       " 'destruction': 308,\n",
       " 'minimum': 309,\n",
       " 'présenter': 310,\n",
       " 'diminuer': 311,\n",
       " 'exploitation': 312,\n",
       " 'phonique': 313,\n",
       " 'terme': 314,\n",
       " 'phase': 315,\n",
       " 'autant': 316,\n",
       " 'droite': 317,\n",
       " 'fort': 318,\n",
       " 'existant': 319,\n",
       " 'mieux': 320,\n",
       " 'fortement': 321,\n",
       " 'création': 322,\n",
       " 'lieu': 323,\n",
       " 'report': 324,\n",
       " 'bloquer': 325,\n",
       " 'raison': 326,\n",
       " 'scénario': 327,\n",
       " 'exemple': 328,\n",
       " 'source': 329,\n",
       " 'pied': 330,\n",
       " 'mal': 331,\n",
       " 'trottoir': 332,\n",
       " 'fondamental': 333,\n",
       " 'slm': 334,\n",
       " 'démolition': 335,\n",
       " 'modifier': 336,\n",
       " 'respecter': 337,\n",
       " 'large': 338,\n",
       " 'financier': 339,\n",
       " 'saturation': 340,\n",
       " 'utilisateur': 341,\n",
       " 'climatique': 342,\n",
       " 'amélioration': 343,\n",
       " 'bénéficier': 344,\n",
       " 'alentours': 345,\n",
       " 'améliorer': 346,\n",
       " 'fournir': 347,\n",
       " 'condition': 348,\n",
       " 'étudier': 349,\n",
       " 'fermer': 350,\n",
       " 'difficulté': 351,\n",
       " 'présent': 352,\n",
       " 'relier': 353,\n",
       " 'embouteiller': 354,\n",
       " 'détruire': 355,\n",
       " 'horaire': 356,\n",
       " 'délai': 357,\n",
       " 'obliger': 358,\n",
       " 'petit': 359,\n",
       " 'décrire': 360,\n",
       " 'responsable': 361,\n",
       " 'faciliter': 362,\n",
       " 'piétonnier': 363,\n",
       " 'installer': 364,\n",
       " 'pérenne': 365,\n",
       " 'enjamber': 366,\n",
       " 'remonter': 367,\n",
       " 'élevé': 368,\n",
       " 'future': 369,\n",
       " 'crlm': 370,\n",
       " 'engorgement': 371,\n",
       " 'possibilité': 372,\n",
       " 'tronçon': 373,\n",
       " 'rapport': 374,\n",
       " 'sécuriser': 375,\n",
       " 'utilisation': 376,\n",
       " 'sortir': 377,\n",
       " 'engendrer': 378,\n",
       " 'aménager': 379,\n",
       " 'environnement': 380,\n",
       " 'sud': 381,\n",
       " 'rue': 382,\n",
       " 'voirie': 383,\n",
       " 'urgence': 384,\n",
       " 'dédié': 385,\n",
       " 'déplacer': 386,\n",
       " 'moyen': 387,\n",
       " 'familial': 388,\n",
       " 'servir': 389,\n",
       " 'couper': 390,\n",
       " 'ragon': 391,\n",
       " 'option': 392,\n",
       " 'œuvre': 393,\n",
       " 'atténuation': 394,\n",
       " 'date': 395,\n",
       " 'précision': 396,\n",
       " 'développement': 397,\n",
       " 'longer': 398,\n",
       " 'asturie': 399,\n",
       " 'arcep': 400,\n",
       " 'couverture': 401,\n",
       " 'complètement': 402,\n",
       " 'réserver': 403,\n",
       " 'largement': 404,\n",
       " 'attention': 405,\n",
       " 'limitation': 406,\n",
       " 'amont': 407,\n",
       " 'privilégier': 408,\n",
       " 'annoncer': 409,\n",
       " 'embouteillage': 410,\n",
       " 'supprimer': 411,\n",
       " 'becquerel': 412,\n",
       " 'uniquement': 413,\n",
       " 'activité': 414,\n",
       " 'agglomération': 415,\n",
       " 'espérer': 416,\n",
       " 'consultation': 417,\n",
       " 'réaménagement': 418,\n",
       " 'parer': 419,\n",
       " 'prolonger': 420,\n",
       " 'donner': 421,\n",
       " 'scan': 422,\n",
       " 'voire': 423,\n",
       " 'enrober': 424,\n",
       " 'document': 425,\n",
       " 'comprendre': 426,\n",
       " 'noue': 427,\n",
       " 'subir': 428,\n",
       " 'envisageable': 429,\n",
       " 'site': 430,\n",
       " 'marche': 431,\n",
       " 'manque': 432,\n",
       " 'covoiturage': 433,\n",
       " 'val': 434,\n",
       " 'parcelle': 435,\n",
       " 'annexe': 436,\n",
       " 'urbanisme': 437,\n",
       " 'ruisseau': 438,\n",
       " 'pourtant': 439,\n",
       " 'doublant': 440,\n",
       " 'viaduc': 441,\n",
       " 'cohor': 442,\n",
       " 'norme': 443,\n",
       " 'onde': 444,\n",
       " 'diffracter': 445,\n",
       " 'arboré': 446,\n",
       " 'drainant': 447,\n",
       " 'décaisser': 448,\n",
       " 'gaz': 449,\n",
       " 'attendre': 450,\n",
       " 'parking': 451,\n",
       " 'soir': 452,\n",
       " 'ralentissement': 453,\n",
       " 'réduction': 454,\n",
       " 'moment': 455,\n",
       " 'individuel': 456,\n",
       " 'favoriser': 457,\n",
       " 'résoudre': 458,\n",
       " 'congestion': 459,\n",
       " 'meilleur': 460,\n",
       " 'cadre': 461,\n",
       " 'franchissement': 462,\n",
       " 'utile': 463,\n",
       " 'fluidité': 464,\n",
       " 'chemin': 465,\n",
       " 'salutation': 466,\n",
       " 'variante': 467,\n",
       " 'pourcent': 468,\n",
       " 'coût': 469,\n",
       " 'évolution': 470,\n",
       " 'beaujoire': 471,\n",
       " 'préciser': 472,\n",
       " 'infrastructure': 473,\n",
       " 'futur': 474,\n",
       " 'porter': 475,\n",
       " 'entrer': 476,\n",
       " 'commissaire': 477,\n",
       " 'collectivité': 478,\n",
       " 'société': 479,\n",
       " 'intégrer': 480,\n",
       " 'question': 481,\n",
       " 'exister': 482,\n",
       " 'oui': 483,\n",
       " 'information': 484,\n",
       " 'prison': 485,\n",
       " 'remarque': 486,\n",
       " 'aspect': 487,\n",
       " 'perte': 488,\n",
       " 'retirer': 489,\n",
       " 'administratif': 490,\n",
       " 'relation': 491,\n",
       " 'citoyenneter': 492,\n",
       " 'conversation': 493,\n",
       " 'téléphonique': 494,\n",
       " 'franchir': 495,\n",
       " 'décision': 496,\n",
       " 'circuit': 497,\n",
       " 'situation': 498,\n",
       " 'douce': 499,\n",
       " 'placer': 500,\n",
       " 'cofiroute': 501,\n",
       " 'sincérité': 502,\n",
       " 'impératif': 503,\n",
       " 'grillage': 504,\n",
       " 'délimiter': 505,\n",
       " 'treillière': 506,\n",
       " 'étage': 507,\n",
       " 'longueur': 508,\n",
       " 'procédure': 509,\n",
       " 'boisement': 510,\n",
       " 'compléter': 511,\n",
       " 'stationner': 512,\n",
       " 'refuser': 513,\n",
       " 'fluide': 514,\n",
       " 'indiquer': 515,\n",
       " 'gauche': 516,\n",
       " 'traffic': 517,\n",
       " 'total': 518,\n",
       " 'conflit': 519,\n",
       " 'coté': 520,\n",
       " 'revoir': 521,\n",
       " 'chose': 522,\n",
       " 'totalement': 523,\n",
       " 'constater': 524,\n",
       " 'vanne': 525,\n",
       " 'compliquer': 526,\n",
       " 'boisé': 527,\n",
       " 'parc': 528,\n",
       " 'arrivée': 529,\n",
       " 'pénaliser': 530,\n",
       " 'vrai': 531,\n",
       " 'population': 532,\n",
       " 'citoyen': 533,\n",
       " 'loin': 534,\n",
       " 'substitution': 535,\n",
       " 'continuer': 536,\n",
       " 'double': 537,\n",
       " 'compter': 538,\n",
       " 'amener': 539,\n",
       " 'centaine': 540,\n",
       " 'développer': 541,\n",
       " 'doublement': 542,\n",
       " 'difficile': 543,\n",
       " 'véritable': 544,\n",
       " 'station': 545,\n",
       " 'cimetière': 546,\n",
       " 'proposition': 547,\n",
       " 'suffire': 548,\n",
       " 'enquêteur': 549,\n",
       " 'contribution': 550,\n",
       " 'ouvrier': 551,\n",
       " 'lign': 552,\n",
       " 'carte': 553,\n",
       " 'bluegreen': 554,\n",
       " 'génère': 555,\n",
       " 'appui': 556,\n",
       " 'abaissement': 557,\n",
       " 'paysagère': 558,\n",
       " 'conservation': 559,\n",
       " 'replanter': 560,\n",
       " 'transplantation': 561,\n",
       " 'invit': 562,\n",
       " 'mutualisation': 563,\n",
       " 'chapeler': 564,\n",
       " 'surplomber': 565,\n",
       " 'échappement': 566,\n",
       " 'entrent': 567,\n",
       " 'organisation': 568,\n",
       " 'autobus': 569,\n",
       " 'fléché': 570,\n",
       " 'réorganisation': 571,\n",
       " 'formation': 572,\n",
       " 'dégagement': 573,\n",
       " 'écrit': 574,\n",
       " 'pompe': 575,\n",
       " 'relevage': 576,\n",
       " 'merlon': 577,\n",
       " 'bellevue': 578,\n",
       " 'avance': 579,\n",
       " 'accidentogène': 580,\n",
       " 'actif': 581,\n",
       " 'charge': 582,\n",
       " 'face': 583,\n",
       " 'croissance': 584,\n",
       " 'soumettre': 585,\n",
       " 'nuit': 586,\n",
       " 'finir': 587,\n",
       " 'certainement': 588,\n",
       " 'investissement': 589,\n",
       " 'simple': 590,\n",
       " 'intéressant': 591,\n",
       " 'désengorger': 592,\n",
       " 'rendre': 593,\n",
       " 'contournement': 594,\n",
       " 'cdlt': 595,\n",
       " 'concertation': 596,\n",
       " 'loire': 597,\n",
       " 'garder': 598,\n",
       " 'devenir': 599,\n",
       " 'polluant': 600,\n",
       " 'anticiper': 601,\n",
       " 'suite': 602,\n",
       " 'jamais': 603,\n",
       " 'train': 604,\n",
       " 'adapter': 605,\n",
       " 'concerner': 606,\n",
       " 'journée': 607,\n",
       " 'économique': 608,\n",
       " 'jeune': 609,\n",
       " 'famille': 610,\n",
       " 'inscrire': 611,\n",
       " 'majeur': 612,\n",
       " 'habite': 613,\n",
       " 'entrainer': 614,\n",
       " 'ensuite': 615,\n",
       " 'piétonne': 616,\n",
       " 'enfant': 617,\n",
       " 'suppression': 618,\n",
       " 'rapidement': 619,\n",
       " 'bilan': 620,\n",
       " 'accident': 621,\n",
       " 'bout': 622,\n",
       " 'nécessité': 623,\n",
       " 'quotidiennement': 624,\n",
       " 'détour': 625,\n",
       " 'agir': 626,\n",
       " 'recherche': 627,\n",
       " 'relever': 628,\n",
       " 'concevoir': 629,\n",
       " 'principal': 630,\n",
       " 'numéro': 631,\n",
       " 'gros': 632,\n",
       " 'objet': 633,\n",
       " 'inquiet': 634,\n",
       " 'jardinier': 635,\n",
       " 'revenir': 636,\n",
       " 'négatif': 637,\n",
       " 'conduire': 638,\n",
       " 'simplement': 639,\n",
       " 'multiplier': 640,\n",
       " 'doc': 641,\n",
       " 'afr': 642,\n",
       " 'trv': 643,\n",
       " 'détail': 644,\n",
       " 'écoulement': 645,\n",
       " 'trottoirs': 646,\n",
       " 'volontier': 647,\n",
       " 'anglechaillou': 648,\n",
       " 'résultat': 649,\n",
       " 'planning': 650,\n",
       " 'mention': 651,\n",
       " 'manqu': 652,\n",
       " 'dommage': 653,\n",
       " 'réfection': 654,\n",
       " 'vélos': 655,\n",
       " 'plus': 656,\n",
       " 'oeuvre': 657,\n",
       " 'dispositif': 658,\n",
       " 'judicieux': 659,\n",
       " 'degré': 660,\n",
       " 'gratuit': 661,\n",
       " 'connexion': 662,\n",
       " 'considérer': 663,\n",
       " 'local': 664,\n",
       " 'perturbation': 665,\n",
       " 'court': 666,\n",
       " 'profiter': 667,\n",
       " 'message': 668,\n",
       " 'terrain': 669,\n",
       " 'vue': 670,\n",
       " 'doute': 671,\n",
       " 'jonction': 672,\n",
       " 'bretell': 673,\n",
       " 'lcse': 674,\n",
       " 'gérer': 675,\n",
       " 'effectuer': 676,\n",
       " 'priorité': 677,\n",
       " 'débordement': 678,\n",
       " 'connaître': 679,\n",
       " 'contrainte': 680,\n",
       " 'vois': 681,\n",
       " 'logique': 682,\n",
       " 'régler': 683,\n",
       " 'remercier': 684,\n",
       " 'proximité': 685,\n",
       " 'constate': 686,\n",
       " 'orientation': 687,\n",
       " 'engager': 688,\n",
       " 'analyse': 689,\n",
       " 'clairement': 690,\n",
       " 'bâtiment': 691,\n",
       " 'carbon': 692,\n",
       " 'côte': 693,\n",
       " 'cause': 694,\n",
       " 'tramway': 695,\n",
       " 'inciter': 696,\n",
       " 'technique': 697,\n",
       " 'largeur': 698,\n",
       " 'conception': 699,\n",
       " 'enjeu': 700,\n",
       " 'mesurer': 701,\n",
       " 'coter': 702,\n",
       " 'manière': 703,\n",
       " 'suivre': 704,\n",
       " 'lande': 705,\n",
       " 'remplacer': 706,\n",
       " 'élu': 707,\n",
       " 'rocade': 708,\n",
       " 'gratuité': 709,\n",
       " 'mme': 710,\n",
       " 'jonelière': 711,\n",
       " 'réalité': 712,\n",
       " 'constat': 713,\n",
       " 'vent': 714,\n",
       " 'répondre': 715,\n",
       " 'priver': 716,\n",
       " 'photo': 717,\n",
       " 'sen': 718,\n",
       " 'chiffre': 719,\n",
       " 'implique': 720,\n",
       " 'externalité': 721,\n",
       " 'euro': 722,\n",
       " 'action': 723,\n",
       " 'faudrait': 724,\n",
       " 'débit': 725,\n",
       " 'atteindre': 726,\n",
       " 'hélène': 727,\n",
       " 'barré': 728,\n",
       " 'adjoint': 729,\n",
       " 'contradiction': 730,\n",
       " 'énergétique': 731,\n",
       " 'climat': 732,\n",
       " 'relai': 733,\n",
       " 'rapide': 734,\n",
       " 'arrêter': 735,\n",
       " 'perdre': 736,\n",
       " 'embouteillages': 737,\n",
       " 'noter': 738,\n",
       " 'domaine': 739,\n",
       " 'pensez': 740,\n",
       " 'retrouver': 741,\n",
       " 'étonner': 742,\n",
       " 'ici': 743,\n",
       " 'génération': 744,\n",
       " 'cycle': 745,\n",
       " 'observer': 746,\n",
       " 'accroître': 747,\n",
       " 'cours': 748,\n",
       " 'haut': 749,\n",
       " 'bitume': 750,\n",
       " 'oublier': 751,\n",
       " 'argent': 752,\n",
       " 'essayer': 753,\n",
       " 'lever': 754,\n",
       " 'fil': 755,\n",
       " 'file': 756,\n",
       " 'anti': 757,\n",
       " 'bruir': 758,\n",
       " 'noir': 759,\n",
       " 'autoroutier': 760,\n",
       " 'vraie': 761,\n",
       " 'surcharger': 762,\n",
       " 'récurrent': 763,\n",
       " 'pdf': 764,\n",
       " 'souhaite': 765,\n",
       " 'humide': 766,\n",
       " 'vite': 767,\n",
       " 'avenir': 768,\n",
       " 'risquer': 769,\n",
       " 'accéder': 770,\n",
       " 'nature': 771,\n",
       " 'pourriez': 772,\n",
       " 'nécessiter': 773,\n",
       " 'observe': 774,\n",
       " 'roue': 775,\n",
       " 'appel': 776,\n",
       " 'développemer': 777,\n",
       " 'bassin': 778,\n",
       " 'vraiment': 779,\n",
       " 'informer': 780,\n",
       " 'payer': 781,\n",
       " 'région': 782,\n",
       " 'réfléchir': 783,\n",
       " 'france': 784,\n",
       " 'réponse': 785,\n",
       " 'insérer': 786,\n",
       " 'comportement': 787,\n",
       " 'faible': 788,\n",
       " 'gevre': 789,\n",
       " 'pratique': 790,\n",
       " 'craindre': 791,\n",
       " 'enfer': 792,\n",
       " 'bureau': 793,\n",
       " 'fille': 794,\n",
       " 'consulter': 795,\n",
       " 'art': 796,\n",
       " 'conscience': 797,\n",
       " 'imaginer': 798,\n",
       " 'capacité': 799,\n",
       " 'retenir': 800,\n",
       " 'sujet': 801,\n",
       " 'puisque': 802,\n",
       " 'reprendre': 803,\n",
       " 'propose': 804,\n",
       " 'cardo': 805,\n",
       " 'pieds': 806,\n",
       " 'acceptable': 807,\n",
       " 'poursuivre': 808,\n",
       " 'suffisamment': 809,\n",
       " 'provoquer': 810,\n",
       " 'usage': 811,\n",
       " 'essentiel': 812,\n",
       " 'extrêmement': 813,\n",
       " 'pdu': 814,\n",
       " 'prise': 815,\n",
       " 'souhaitable': 816,\n",
       " 'quartiers': 817,\n",
       " 'raisonnable': 818,\n",
       " 'manquer': 819,\n",
       " 'paraître': 820,\n",
       " 'définitif': 821,\n",
       " 'parallèle': 822,\n",
       " 'organiser': 823,\n",
       " 'revêtement': 824,\n",
       " 'alterner': 825,\n",
       " 'énergie': 826,\n",
       " 'commerçant': 827,\n",
       " 'voisin': 828,\n",
       " 'chailloux': 829,\n",
       " 'sûr': 830,\n",
       " 'rout': 831,\n",
       " 'croire': 832,\n",
       " 'monde': 833,\n",
       " 'complet': 834,\n",
       " 'sérieux': 835,\n",
       " 'réflexion': 836,\n",
       " 'reporter': 837,\n",
       " 'château': 838,\n",
       " 'agrandissement': 839,\n",
       " 'cahérau': 840,\n",
       " 'surface': 841,\n",
       " 'réel': 842,\n",
       " 'main': 843,\n",
       " 'gêne': 844,\n",
       " 'hiver': 845,\n",
       " 'souhaitant': 846,\n",
       " 'évoquer': 847,\n",
       " 'étudiant': 848,\n",
       " 'représenter': 849,\n",
       " 'énorme': 850,\n",
       " 'jardins': 851,\n",
       " 'vieux': 852,\n",
       " 'enquete': 853,\n",
       " 'écoute': 854,\n",
       " 'domicile': 855,\n",
       " 'potager': 856,\n",
       " 'absence': 857,\n",
       " 'changer': 858,\n",
       " 'million': 859,\n",
       " 'budget': 860,\n",
       " 'page': 861,\n",
       " 'ece': 862,\n",
       " 'principalement': 863,\n",
       " 'bio': 864,\n",
       " 'état': 865,\n",
       " 'disponible': 866,\n",
       " 'aboutir': 867,\n",
       " 'entraîner': 868,\n",
       " 'problématique': 869,\n",
       " 'intérieur': 870,\n",
       " 'élargissement': 871,\n",
       " 'mentionner': 872,\n",
       " 'europe': 873,\n",
       " 'idée': 874,\n",
       " 'mauvais': 875,\n",
       " 'global': 876,\n",
       " 'offrir': 877,\n",
       " 'navette': 878,\n",
       " 'lotissement': 879,\n",
       " 'particule': 880,\n",
       " 'groupe': 881,\n",
       " 'financer': 882,\n",
       " 'métropolitain': 883,\n",
       " 'issu': 884,\n",
       " 'transition': 885,\n",
       " 'terminer': 886,\n",
       " 'notice': 887,\n",
       " 'explicatif': 888,\n",
       " 'ambition': 889,\n",
       " 'refair': 890,\n",
       " 'imagine': 891,\n",
       " 'politique': 892,\n",
       " 'respect': 893,\n",
       " 'obtenir': 894,\n",
       " 'nettement': 895,\n",
       " 'probablement': 896,\n",
       " 'constituer': 897,\n",
       " 'avérer': 898,\n",
       " 'généralement': 899,\n",
       " 'signalisation': 900,\n",
       " 'recevoir': 901,\n",
       " 'définitivement': 902,\n",
       " 'planète': 903,\n",
       " 'urgent': 904,\n",
       " 'moindre': 905,\n",
       " 'foncier': 906,\n",
       " 'élément': 907,\n",
       " 'disposition': 908,\n",
       " 'bois': 909,\n",
       " 'occasion': 910,\n",
       " 'écarter': 911,\n",
       " 'encourager': 912,\n",
       " 'dégrader': 913,\n",
       " 'périf': 914,\n",
       " 'laisser': 915,\n",
       " 'durer': 916,\n",
       " 'fréquent': 917,\n",
       " 'président': 918,\n",
       " 'souci': 919,\n",
       " 'probleme': 920,\n",
       " 'mener': 921,\n",
       " 'amenagement': 922,\n",
       " 'rétrécissement': 923,\n",
       " 'distance': 924,\n",
       " 'provoque': 925,\n",
       " 'former': 926,\n",
       " 'camion': 927,\n",
       " 'évacuation': 928,\n",
       " 'déborde': 929,\n",
       " 'anger': 930,\n",
       " 'économie': 931,\n",
       " 'empreinte': 932,\n",
       " 'poser': 933,\n",
       " 'parcours': 934,\n",
       " 'intégration': 935,\n",
       " 'regard': 936,\n",
       " 'prolongement': 937,\n",
       " 'engendre': 938,\n",
       " 'opérer': 939,\n",
       " 'application': 940,\n",
       " 'bis': 941,\n",
       " 'rouler': 942,\n",
       " 'veiller': 943,\n",
       " 'correctement': 944,\n",
       " 'contraindre': 945,\n",
       " 'implantation': 946,\n",
       " 'henri': 947,\n",
       " 'bel': 948,\n",
       " 'faune': 949,\n",
       " 'écologie': 950,\n",
       " 'novateur': 951,\n",
       " 'humain': 952,\n",
       " 'partiellemer': 953,\n",
       " 'vient': 954,\n",
       " 'second': 955,\n",
       " 'cesse': 956,\n",
       " 'reconstruire': 957,\n",
       " 'immobilier': 958,\n",
       " 'y': 959,\n",
       " 'traverse': 960,\n",
       " 'lycéen': 961,\n",
       " 'détailler': 962,\n",
       " 'réchauffement': 963,\n",
       " 'chapitre': 964,\n",
       " 'phasage': 965,\n",
       " 'traduire': 966,\n",
       " 'tracé': 967,\n",
       " 'opposer': 968,\n",
       " 'présente': 969,\n",
       " 'histoire': 970,\n",
       " 'gray': 971,\n",
       " 'nouer': 972,\n",
       " 'circuler': 973,\n",
       " 'travaille': 974,\n",
       " 'malheureusement': 975,\n",
       " 'impossible': 976,\n",
       " 'justice': 977,\n",
       " 'élargir': 978,\n",
       " 'maître': 979,\n",
       " 'autorité': 980,\n",
       " 'urbain': 981,\n",
       " 'terre': 982,\n",
       " 'but': 983,\n",
       " 'bruyant': 984,\n",
       " 'remarqu': 985,\n",
       " 'loi': 986,\n",
       " 'cheminement': 987,\n",
       " 'revanche': 988,\n",
       " 'accueillir': 989,\n",
       " 'école': 990,\n",
       " 'accessible': 991,\n",
       " 'aline': 992,\n",
       " 'thebaud': 993,\n",
       " 'déléguer': 994,\n",
       " 'cohésion': 995,\n",
       " 'prestation': 996,\n",
       " 'tél': 997,\n",
       " 'fax': 998,\n",
       " 'portable': 999,\n",
       " 'aberrer': 1000,\n",
       " ...}"
      ]
     },
     "execution_count": 40,
     "metadata": {
      "tags": []
     },
     "output_type": "execute_result"
    }
   ],
   "source": [
    "tokenizer.word_index"
   ]
  },
  {
   "cell_type": "code",
   "execution_count": 41,
   "metadata": {
    "colab": {
     "base_uri": "https://localhost:8080/",
     "height": 195
    },
    "id": "ZjZ61i6OOlv0",
    "outputId": "526e6aa4-650c-49df-ccf1-4acaaf88d5dc"
   },
   "outputs": [
    {
     "data": {
      "text/html": [
       "<div>\n",
       "<style scoped>\n",
       "    .dataframe tbody tr th:only-of-type {\n",
       "        vertical-align: middle;\n",
       "    }\n",
       "\n",
       "    .dataframe tbody tr th {\n",
       "        vertical-align: top;\n",
       "    }\n",
       "\n",
       "    .dataframe thead th {\n",
       "        text-align: right;\n",
       "    }\n",
       "</style>\n",
       "<table border=\"1\" class=\"dataframe\">\n",
       "  <thead>\n",
       "    <tr style=\"text-align: right;\">\n",
       "      <th></th>\n",
       "      <th>clean_document++</th>\n",
       "      <th>Sentiments</th>\n",
       "    </tr>\n",
       "  </thead>\n",
       "  <tbody>\n",
       "    <tr>\n",
       "      <th>0</th>\n",
       "      <td>[174, 24, 3, 578, 5, 1092, 53, 1, 649, 450, 15...</td>\n",
       "      <td>1</td>\n",
       "    </tr>\n",
       "    <tr>\n",
       "      <th>1</th>\n",
       "      <td>[402, 9, 90, 1093, 5, 12, 402, 224, 68, 166, 9...</td>\n",
       "      <td>2</td>\n",
       "    </tr>\n",
       "    <tr>\n",
       "      <th>2</th>\n",
       "      <td>[738, 1548, 650, 1096, 887, 888, 1097, 335, 15...</td>\n",
       "      <td>2</td>\n",
       "    </tr>\n",
       "    <tr>\n",
       "      <th>3</th>\n",
       "      <td>[9, 175, 281, 9, 27, 652, 889, 1553, 890, 316,...</td>\n",
       "      <td>2</td>\n",
       "    </tr>\n",
       "    <tr>\n",
       "      <th>4</th>\n",
       "      <td>[1563, 9, 91, 177, 240, 78, 281, 653, 9, 1102,...</td>\n",
       "      <td>2</td>\n",
       "    </tr>\n",
       "  </tbody>\n",
       "</table>\n",
       "</div>"
      ],
      "text/plain": [
       "                                    clean_document++  Sentiments\n",
       "0  [174, 24, 3, 578, 5, 1092, 53, 1, 649, 450, 15...           1\n",
       "1  [402, 9, 90, 1093, 5, 12, 402, 224, 68, 166, 9...           2\n",
       "2  [738, 1548, 650, 1096, 887, 888, 1097, 335, 15...           2\n",
       "3  [9, 175, 281, 9, 27, 652, 889, 1553, 890, 316,...           2\n",
       "4  [1563, 9, 91, 177, 240, 78, 281, 653, 9, 1102,...           2"
      ]
     },
     "execution_count": 41,
     "metadata": {
      "tags": []
     },
     "output_type": "execute_result"
    }
   ],
   "source": [
    "df_final['clean_document++']= tokenizer.texts_to_sequences(df_final['clean_document++'])\r\n",
    "df_final.head()"
   ]
  },
  {
   "cell_type": "code",
   "execution_count": 107,
   "metadata": {
    "id": "2MPjBx4Ea88o"
   },
   "outputs": [],
   "source": [
    "X = df_final['clean_document++']\r\n",
    "Y = df_final['Sentiments']"
   ]
  },
  {
   "cell_type": "code",
   "execution_count": 188,
   "metadata": {
    "id": "6WdI2u_EVYPK"
   },
   "outputs": [],
   "source": [
    "from sklearn.model_selection import train_test_split\r\n",
    "\r\n",
    "X_train, X_test, y_train, y_test = train_test_split(X, Y, test_size=0.3, random_state=2,shuffle=True, stratify = Y)"
   ]
  },
  {
   "cell_type": "code",
   "execution_count": 189,
   "metadata": {
    "colab": {
     "base_uri": "https://localhost:8080/"
    },
    "id": "TC3Li5edVi9K",
    "outputId": "d994b2b5-9ae1-40b5-dd75-6a01216c8575"
   },
   "outputs": [
    {
     "data": {
      "text/plain": [
       "(220,)"
      ]
     },
     "execution_count": 189,
     "metadata": {
      "tags": []
     },
     "output_type": "execute_result"
    }
   ],
   "source": [
    "X_train.shape"
   ]
  },
  {
   "cell_type": "code",
   "execution_count": 190,
   "metadata": {
    "id": "vbmRXVtjO7bt"
   },
   "outputs": [],
   "source": [
    "reviews_pad_train = tf.keras.preprocessing.sequence.pad_sequences(X_train, padding=\"post\")"
   ]
  },
  {
   "cell_type": "code",
   "execution_count": 191,
   "metadata": {
    "colab": {
     "base_uri": "https://localhost:8080/"
    },
    "id": "Y-finlZGVsiM",
    "outputId": "48d4aa47-a0c2-41a9-ced7-c7276badc64d"
   },
   "outputs": [
    {
     "data": {
      "text/plain": [
       "(220, 739)"
      ]
     },
     "execution_count": 191,
     "metadata": {
      "tags": []
     },
     "output_type": "execute_result"
    }
   ],
   "source": [
    "reviews_pad_train.shape"
   ]
  },
  {
   "cell_type": "code",
   "execution_count": 192,
   "metadata": {
    "id": "J7QPK_GUV8-_"
   },
   "outputs": [],
   "source": [
    "reviews_pad_test = tf.keras.preprocessing.sequence.pad_sequences(X_test,maxlen=739)"
   ]
  },
  {
   "cell_type": "code",
   "execution_count": 193,
   "metadata": {
    "colab": {
     "base_uri": "https://localhost:8080/"
    },
    "id": "2Zc6QhF_WEVp",
    "outputId": "6cdbb4d2-556e-47db-a7da-75629c6c7688"
   },
   "outputs": [
    {
     "data": {
      "text/plain": [
       "(95, 739)"
      ]
     },
     "execution_count": 193,
     "metadata": {
      "tags": []
     },
     "output_type": "execute_result"
    }
   ],
   "source": [
    "reviews_pad_test.shape"
   ]
  },
  {
   "cell_type": "code",
   "execution_count": 194,
   "metadata": {
    "id": "H8AjTheUWHpq"
   },
   "outputs": [],
   "source": [
    "train_encoded_data = tf.data.Dataset.from_tensor_slices((reviews_pad_train, y_train.values))\r\n",
    "test_encoded_data = tf.data.Dataset.from_tensor_slices((reviews_pad_test, y_test.values))"
   ]
  },
  {
   "cell_type": "code",
   "execution_count": 195,
   "metadata": {
    "id": "4Fsnu2oKWNwm"
   },
   "outputs": [],
   "source": [
    "train_encoded_data = train_encoded_data.shuffle(len(train_encoded_data))\r\n",
    "train_data = train_encoded_data.batch(4)\r\n",
    "\r\n",
    "test_data = test_encoded_data.batch(4)"
   ]
  },
  {
   "cell_type": "code",
   "execution_count": 196,
   "metadata": {
    "colab": {
     "base_uri": "https://localhost:8080/"
    },
    "id": "ByQAn7SbWRC3",
    "outputId": "7cf95875-8ad1-4770-a18f-ef3db7ec8472"
   },
   "outputs": [
    {
     "name": "stdout",
     "output_type": "stream",
     "text": [
      "tf.Tensor(\n",
      "[[  83   83  175 ...    0    0    0]\n",
      " [1691    2   20 ...    0    0    0]\n",
      " [ 227  207   16 ...    0    0    0]\n",
      " [ 287  236   16 ...    0    0    0]], shape=(4, 739), dtype=int32)\n"
     ]
    }
   ],
   "source": [
    " # Let's look at a batch \r\n",
    "for review, star in train_data.take(1):\r\n",
    "  print(review)"
   ]
  },
  {
   "cell_type": "code",
   "execution_count": 197,
   "metadata": {
    "colab": {
     "base_uri": "https://localhost:8080/"
    },
    "id": "vvat055fPMix",
    "outputId": "e7902e74-c6e7-47fa-d77a-7404dba12100"
   },
   "outputs": [
    {
     "data": {
      "text/plain": [
       "<BatchDataset shapes: ((None, 739), (None,)), types: (tf.int32, tf.int64)>"
      ]
     },
     "execution_count": 197,
     "metadata": {
      "tags": []
     },
     "output_type": "execute_result"
    }
   ],
   "source": [
    "train_data "
   ]
  },
  {
   "cell_type": "code",
   "execution_count": 198,
   "metadata": {
    "colab": {
     "base_uri": "https://localhost:8080/"
    },
    "id": "OyU3BoDZWXbU",
    "outputId": "ee714429-042b-4d52-c83b-c93ef3934d7f"
   },
   "outputs": [
    {
     "data": {
      "text/plain": [
       "739"
      ]
     },
     "execution_count": 198,
     "metadata": {
      "tags": []
     },
     "output_type": "execute_result"
    }
   ],
   "source": [
    "review.shape[1]"
   ]
  },
  {
   "cell_type": "markdown",
   "metadata": {
    "id": "rGGRlP4_Wbum"
   },
   "source": [
    "# MODEL"
   ]
  },
  {
   "cell_type": "code",
   "execution_count": 199,
   "metadata": {
    "id": "Xkez_9w-WW9U"
   },
   "outputs": [],
   "source": [
    "vocab_size = len(tokenizer.word_index)"
   ]
  },
  {
   "cell_type": "code",
   "execution_count": 200,
   "metadata": {
    "colab": {
     "base_uri": "https://localhost:8080/"
    },
    "id": "sz6y286aWg7B",
    "outputId": "f9aee638-5acc-426a-a148-ee0c38aad97f"
   },
   "outputs": [
    {
     "data": {
      "text/plain": [
       "3084"
      ]
     },
     "execution_count": 200,
     "metadata": {
      "tags": []
     },
     "output_type": "execute_result"
    }
   ],
   "source": [
    "vocab_size"
   ]
  },
  {
   "cell_type": "code",
   "execution_count": 212,
   "metadata": {
    "id": "ChklMi3qWktS"
   },
   "outputs": [],
   "source": [
    "model = tf.keras.Sequential([\r\n",
    "                  # Couche d'Input Word Embedding           \r\n",
    "                  tf.keras.layers.Embedding(vocab_size+1, 64, input_shape=[review.shape[1],]),\r\n",
    "                \r\n",
    "                  # Couche CNN\r\n",
    "                  tf.keras.layers.Conv1D(16, 3, activation=\"relu\"),\r\n",
    "\r\n",
    "                  # flatten output\r\n",
    "                  tf.keras.layers.Flatten()  ,           \r\n",
    "\r\n",
    "                  # Couche Dense classique \r\n",
    "                  tf.keras.layers.Dense(64, activation='relu'),\r\n",
    "                  tf.keras.layers.Dense(32, activation='relu'),\r\n",
    "                  tf.keras.layers.Dense(16, activation='relu'),\r\n",
    "                  tf.keras.layers.Dense(8, activation='relu'),\r\n",
    "                  tf.keras.layers.Dropout(0.5),\r\n",
    "\r\n",
    "                  # Couche de sortie avec le nombre de neurones en sortie égale au nombre de classe avec fonction softmax\r\n",
    "                  tf.keras.layers.Dense(3, activation=\"softmax\")\r\n",
    "                                              \r\n",
    "])"
   ]
  },
  {
   "cell_type": "code",
   "execution_count": 213,
   "metadata": {
    "colab": {
     "base_uri": "https://localhost:8080/"
    },
    "id": "ZIWdrD6yWnl0",
    "outputId": "9943f99a-e3a1-4521-af2d-7705ffbb3e87"
   },
   "outputs": [
    {
     "name": "stdout",
     "output_type": "stream",
     "text": [
      "Model: \"sequential_8\"\n",
      "_________________________________________________________________\n",
      "Layer (type)                 Output Shape              Param #   \n",
      "=================================================================\n",
      "embedding_8 (Embedding)      (None, 739, 64)           197440    \n",
      "_________________________________________________________________\n",
      "conv1d_8 (Conv1D)            (None, 737, 16)           3088      \n",
      "_________________________________________________________________\n",
      "flatten_8 (Flatten)          (None, 11792)             0         \n",
      "_________________________________________________________________\n",
      "dense_40 (Dense)             (None, 64)                754752    \n",
      "_________________________________________________________________\n",
      "dense_41 (Dense)             (None, 32)                2080      \n",
      "_________________________________________________________________\n",
      "dense_42 (Dense)             (None, 16)                528       \n",
      "_________________________________________________________________\n",
      "dense_43 (Dense)             (None, 8)                 136       \n",
      "_________________________________________________________________\n",
      "dropout (Dropout)            (None, 8)                 0         \n",
      "_________________________________________________________________\n",
      "dense_44 (Dense)             (None, 3)                 27        \n",
      "=================================================================\n",
      "Total params: 958,051\n",
      "Trainable params: 958,051\n",
      "Non-trainable params: 0\n",
      "_________________________________________________________________\n"
     ]
    }
   ],
   "source": [
    "model.summary()"
   ]
  },
  {
   "cell_type": "code",
   "execution_count": 214,
   "metadata": {
    "id": "k4BuuuLNfTEJ"
   },
   "outputs": [],
   "source": [
    "import keras.backend as K\r\n",
    "\r\n",
    "def f1_metric(y_true, y_pred):\r\n",
    "    true_positives = K.sum(K.round(K.clip(y_true * y_pred, 0, 1)))\r\n",
    "    possible_positives = K.sum(K.round(K.clip(y_true, 0, 1)))\r\n",
    "    predicted_positives = K.sum(K.round(K.clip(y_pred, 0, 1)))\r\n",
    "    precision = true_positives / (predicted_positives + K.epsilon())\r\n",
    "    recall = true_positives / (possible_positives + K.epsilon())\r\n",
    "    f1_val = 2*(precision*recall)/(precision+recall+K.epsilon())\r\n",
    "    return f1_val\r\n",
    "    \r\n",
    "    \r\n"
   ]
  },
  {
   "cell_type": "code",
   "execution_count": 215,
   "metadata": {
    "id": "83jjg1RNWpEz"
   },
   "outputs": [],
   "source": [
    "# Créons un learning rate schedule pour décroitre le learning rate à mesure que nous entrainons le modèle \r\n",
    "initial_learning_rate = 0.1\r\n",
    "\r\n",
    "lr_schedule = tf.keras.optimizers.schedules.ExponentialDecay(\r\n",
    "    initial_learning_rate,\r\n",
    "    decay_steps=1000,\r\n",
    "    decay_rate=0.96,\r\n",
    "    staircase=True)\r\n",
    "\r\n",
    "# Utilisation d'un compileur simple avec un optimiseur Adam pour le calcul de nos gradients \r\n",
    "optimizer= tf.keras.optimizers.Adam(\r\n",
    "    learning_rate = lr_schedule\r\n",
    ")\r\n",
    "\r\n",
    "model.compile(optimizer=optimizer,\r\n",
    "              loss=tf.keras.losses.SparseCategoricalCrossentropy(),\r\n",
    "              metrics=['accuracy', f1_metric])"
   ]
  },
  {
   "cell_type": "code",
   "execution_count": null,
   "metadata": {
    "colab": {
     "base_uri": "https://localhost:8080/"
    },
    "id": "M64v8uzMW0Vf",
    "outputId": "7554075a-ded0-4ffa-ee35-9079d217b5e0"
   },
   "outputs": [
    {
     "name": "stdout",
     "output_type": "stream",
     "text": [
      "Epoch 1/40\n",
      "55/55 [==============================] - 2s 20ms/step - loss: 255.9379 - accuracy: 0.6220 - f1_metric: 1.0600 - val_loss: 0.8070 - val_accuracy: 0.6842 - val_f1_metric: 0.4492\n",
      "Epoch 2/40\n",
      "55/55 [==============================] - 1s 16ms/step - loss: 0.8551 - accuracy: 0.6809 - f1_metric: 0.4445 - val_loss: 0.8194 - val_accuracy: 0.6842 - val_f1_metric: 0.7754\n",
      "Epoch 3/40\n",
      "55/55 [==============================] - 1s 16ms/step - loss: 0.7511 - accuracy: 0.7049 - f1_metric: 0.6760 - val_loss: 0.8078 - val_accuracy: 0.6842 - val_f1_metric: 0.4492\n",
      "Epoch 4/40\n",
      "55/55 [==============================] - 1s 18ms/step - loss: 0.8526 - accuracy: 0.6548 - f1_metric: 0.4760 - val_loss: 0.8205 - val_accuracy: 0.6842 - val_f1_metric: 0.4492\n",
      "Epoch 5/40\n",
      "55/55 [==============================] - 1s 19ms/step - loss: 0.8168 - accuracy: 0.6795 - f1_metric: 0.4883 - val_loss: 0.8075 - val_accuracy: 0.6842 - val_f1_metric: 0.4492\n",
      "Epoch 6/40\n",
      "55/55 [==============================] - 1s 18ms/step - loss: 0.8852 - accuracy: 0.6395 - f1_metric: 0.7005 - val_loss: 0.8253 - val_accuracy: 0.6842 - val_f1_metric: 0.4492\n",
      "Epoch 7/40\n",
      "55/55 [==============================] - 1s 16ms/step - loss: 0.7980 - accuracy: 0.6810 - f1_metric: 0.5091 - val_loss: 0.8244 - val_accuracy: 0.6842 - val_f1_metric: 0.4492\n",
      "Epoch 8/40\n",
      "55/55 [==============================] - 1s 16ms/step - loss: 0.8487 - accuracy: 0.6781 - f1_metric: 0.4406 - val_loss: 0.8115 - val_accuracy: 0.6842 - val_f1_metric: 0.7754\n",
      "Epoch 9/40\n",
      "55/55 [==============================] - 1s 16ms/step - loss: 0.8235 - accuracy: 0.6685 - f1_metric: 0.7283 - val_loss: 0.8082 - val_accuracy: 0.6842 - val_f1_metric: 0.4492\n",
      "Epoch 10/40\n",
      "55/55 [==============================] - 1s 17ms/step - loss: 0.7473 - accuracy: 0.7414 - f1_metric: 0.4154 - val_loss: 0.8069 - val_accuracy: 0.6842 - val_f1_metric: 0.4492\n",
      "Epoch 11/40\n",
      "55/55 [==============================] - 1s 16ms/step - loss: 0.8202 - accuracy: 0.6855 - f1_metric: 0.4975 - val_loss: 0.8183 - val_accuracy: 0.6842 - val_f1_metric: 0.4492\n",
      "Epoch 12/40\n",
      "55/55 [==============================] - 1s 16ms/step - loss: 0.8178 - accuracy: 0.6909 - f1_metric: 0.4380 - val_loss: 0.8154 - val_accuracy: 0.6842 - val_f1_metric: 0.4492\n",
      "Epoch 13/40\n",
      "55/55 [==============================] - 1s 19ms/step - loss: 0.8099 - accuracy: 0.6965 - f1_metric: 0.4162 - val_loss: 0.8122 - val_accuracy: 0.6842 - val_f1_metric: 0.7754\n",
      "Epoch 14/40\n",
      "55/55 [==============================] - 1s 20ms/step - loss: 0.7506 - accuracy: 0.7222 - f1_metric: 0.5168 - val_loss: 0.8078 - val_accuracy: 0.6842 - val_f1_metric: 0.4492\n",
      "Epoch 15/40\n",
      "55/55 [==============================] - 1s 16ms/step - loss: 0.7854 - accuracy: 0.7139 - f1_metric: 0.4371 - val_loss: 0.8100 - val_accuracy: 0.6842 - val_f1_metric: 0.4492\n",
      "Epoch 16/40\n",
      "55/55 [==============================] - 1s 16ms/step - loss: 0.7958 - accuracy: 0.6808 - f1_metric: 0.5601 - val_loss: 0.8079 - val_accuracy: 0.6842 - val_f1_metric: 0.4492\n",
      "Epoch 17/40\n",
      "55/55 [==============================] - 1s 16ms/step - loss: 0.7363 - accuracy: 0.7317 - f1_metric: 0.3998 - val_loss: 0.8191 - val_accuracy: 0.6842 - val_f1_metric: 0.7754\n",
      "Epoch 18/40\n",
      "55/55 [==============================] - 1s 16ms/step - loss: 0.8417 - accuracy: 0.6761 - f1_metric: 0.5309 - val_loss: 0.8113 - val_accuracy: 0.6842 - val_f1_metric: 0.4492\n",
      "Epoch 19/40\n",
      "55/55 [==============================] - 1s 16ms/step - loss: 0.7763 - accuracy: 0.7417 - f1_metric: 0.3628 - val_loss: 0.8272 - val_accuracy: 0.6842 - val_f1_metric: 0.7754\n",
      "Epoch 20/40\n",
      "55/55 [==============================] - 1s 17ms/step - loss: 0.7403 - accuracy: 0.7472 - f1_metric: 0.5159 - val_loss: 0.8551 - val_accuracy: 0.6842 - val_f1_metric: 0.7754\n",
      "Epoch 21/40\n",
      "55/55 [==============================] - 1s 20ms/step - loss: 0.8249 - accuracy: 0.6687 - f1_metric: 0.7456 - val_loss: 0.8126 - val_accuracy: 0.6842 - val_f1_metric: 0.7754\n",
      "Epoch 22/40\n",
      "55/55 [==============================] - 1s 20ms/step - loss: 0.8308 - accuracy: 0.6422 - f1_metric: 0.7246 - val_loss: 0.8120 - val_accuracy: 0.6842 - val_f1_metric: 0.4492\n",
      "Epoch 23/40\n",
      "55/55 [==============================] - 1s 18ms/step - loss: 0.8165 - accuracy: 0.6739 - f1_metric: 0.6025 - val_loss: 0.8125 - val_accuracy: 0.6842 - val_f1_metric: 0.4492\n",
      "Epoch 24/40\n",
      "55/55 [==============================] - 1s 16ms/step - loss: 0.7328 - accuracy: 0.7227 - f1_metric: 0.4256 - val_loss: 0.8219 - val_accuracy: 0.6842 - val_f1_metric: 0.7754\n",
      "Epoch 25/40\n",
      "55/55 [==============================] - 1s 17ms/step - loss: 0.8545 - accuracy: 0.6838 - f1_metric: 0.5646 - val_loss: 0.8272 - val_accuracy: 0.6842 - val_f1_metric: 0.7754\n",
      "Epoch 26/40\n",
      "55/55 [==============================] - 1s 16ms/step - loss: 0.7641 - accuracy: 0.7335 - f1_metric: 0.4948 - val_loss: 0.8217 - val_accuracy: 0.6842 - val_f1_metric: 0.7754\n",
      "Epoch 27/40\n",
      "55/55 [==============================] - 1s 16ms/step - loss: 0.8288 - accuracy: 0.6637 - f1_metric: 0.6678 - val_loss: 0.8071 - val_accuracy: 0.6842 - val_f1_metric: 0.4492\n",
      "Epoch 28/40\n",
      "55/55 [==============================] - 1s 17ms/step - loss: 0.7957 - accuracy: 0.6810 - f1_metric: 0.4931 - val_loss: 0.8097 - val_accuracy: 0.6842 - val_f1_metric: 0.4492\n",
      "Epoch 29/40\n",
      " 9/55 [===>..........................] - ETA: 0s - loss: 0.5151 - accuracy: 0.8543 - f1_metric: 0.2240"
     ]
    }
   ],
   "source": [
    "history = model.fit(train_data, epochs=40, validation_data=test_data)"
   ]
  },
  {
   "cell_type": "markdown",
   "metadata": {
    "id": "KTiIY0DrSrFd"
   },
   "source": [
    "55/55 [==============================] - 1s 17ms/step - loss: 0.8332 - accuracy: 0.6752 - f1_metric: 0.6301 - val_loss: 0.8077 - val_accuracy: 0.6842 - val_f1_metric: 0.7754"
   ]
  },
  {
   "cell_type": "markdown",
   "metadata": {
    "id": "lO1VvzPqocY0"
   },
   "source": [
    "\r\n",
    "55/55 [==============================] - 1s 17ms/step - loss: 0.7998 - accuracy: 0.6909 - f1_metric: 0.5458 - val_loss: 0.8140 - val_accuracy: 0.6842 - val_f1_metric: 0.407"
   ]
  },
  {
   "cell_type": "code",
   "execution_count": 210,
   "metadata": {
    "colab": {
     "base_uri": "https://localhost:8080/"
    },
    "id": "LaBnEi4dl-cJ",
    "outputId": "7e31fa09-9f3c-47cf-f748-41d157d40737"
   },
   "outputs": [
    {
     "name": "stdout",
     "output_type": "stream",
     "text": [
      "24/24 [==============================] - 0s 3ms/step - loss: 0.8077 - accuracy: 0.6842 - f1_metric: 0.7754\n"
     ]
    },
    {
     "data": {
      "text/plain": [
       "[0.8077347874641418, 0.6842105388641357, 0.7753967642784119]"
      ]
     },
     "execution_count": 210,
     "metadata": {
      "tags": []
     },
     "output_type": "execute_result"
    }
   ],
   "source": [
    "model.evaluate(test_data)"
   ]
  },
  {
   "cell_type": "code",
   "execution_count": 208,
   "metadata": {
    "id": "eHbw8FbAmCwO"
   },
   "outputs": [],
   "source": [
    "predictions = model.predict(test_data)"
   ]
  },
  {
   "cell_type": "code",
   "execution_count": 209,
   "metadata": {
    "colab": {
     "base_uri": "https://localhost:8080/"
    },
    "id": "UK5NnfzjmH32",
    "outputId": "3058ec81-d64f-40c3-dff5-6ee2cd0e2f2d"
   },
   "outputs": [
    {
     "data": {
      "text/plain": [
       "0.33333334"
      ]
     },
     "execution_count": 209,
     "metadata": {
      "tags": []
     },
     "output_type": "execute_result"
    }
   ],
   "source": [
    "np.mean(predictions)"
   ]
  },
  {
   "cell_type": "code",
   "execution_count": 206,
   "metadata": {
    "colab": {
     "base_uri": "https://localhost:8080/",
     "height": 545
    },
    "id": "rLj1VsjynDr8",
    "outputId": "cb001852-db96-409b-a5a3-ec8f6f050b0f"
   },
   "outputs": [
    {
     "data": {
      "image/png": "[encoded data removed]",
      "text/plain": [
       "<Figure size 432x288 with 1 Axes>"
      ]
     },
     "metadata": {
      "needs_background": "light",
      "tags": []
     },
     "output_type": "display_data"
    },
    {
     "data": {
      "image/png": "[encoded data removed]",
      "text/plain": [
       "<Figure size 432x288 with 1 Axes>"
      ]
     },
     "metadata": {
      "needs_background": "light",
      "tags": []
     },
     "output_type": "display_data"
    }
   ],
   "source": [
    "import matplotlib.pyplot as plt\r\n",
    "\r\n",
    "\r\n",
    "loss_curve = history.history[\"loss\"]\r\n",
    "loss_val = history.history[\"val_loss\"]\r\n",
    "acc_curve = history.history[\"f1_metric\"]\r\n",
    "acc_val = history.history[\"val_f1_metric\"]\r\n",
    "\r\n",
    "plt.plot(loss_val,label=\"Loss_val\")\r\n",
    "plt.plot(loss_curve,label=\"Loss_train\")\r\n",
    "plt.legend()\r\n",
    "plt.title(\"loss\")\r\n",
    "plt.show()\r\n",
    "\r\n",
    "plt.plot(acc_val, label=\"acc_val\" )\r\n",
    "plt.plot(acc_curve, label=\"acc_train\" )\r\n",
    "plt.legend()\r\n",
    "plt.title(\"F1-score\")\r\n",
    "plt.show()"
   ]
  }
 ],
 "metadata": {
  "colab": {
   "collapsed_sections": [],
   "name": "Projet_avis_démocratie_participative (1).ipynb",
   "provenance": [],
   "toc_visible": true
  },
  "kernelspec": {
   "display_name": "Python 3",
   "language": "python",
   "name": "python3"
  },
  "language_info": {
   "codemirror_mode": {
    "name": "ipython",
    "version": 3
   },
   "file_extension": ".py",
   "mimetype": "text/x-python",
   "name": "python",
   "nbconvert_exporter": "python",
   "pygments_lexer": "ipython3",
   "version": "3.8.6"
  }
 },
 "nbformat": 4,
 "nbformat_minor": 4
}
